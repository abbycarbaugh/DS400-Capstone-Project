{
  "nbformat": 4,
  "nbformat_minor": 0,
  "metadata": {
    "colab": {
      "provenance": []
    },
    "kernelspec": {
      "name": "python3",
      "display_name": "Python 3"
    },
    "language_info": {
      "name": "python"
    },
    "accelerator": "GPU",
    "gpuClass": "standard"
  },
  "cells": [
    {
      "cell_type": "code",
      "execution_count": null,
      "metadata": {
        "id": "jG2uWxlTGY5v"
      },
      "outputs": [],
      "source": [
        "import pandas as pd\n",
        "import matplotlib.pyplot as plt\n",
        "import numpy as np\n",
        "import seaborn as sns\n",
        "\n",
        "import tensorflow as tf\n",
        "from tensorflow import keras\n",
        "from tensorflow.keras import layers"
      ]
    },
    {
      "cell_type": "code",
      "source": [
        "from keras.utils import get_file\n",
        "import os\n",
        "\n",
        "data_url = 'https://storage.googleapis.com/kaggle-competitions-data/kaggle-v2/3364/31151/bundle/archive.zip?GoogleAccessId=web-data@kaggle-161607.iam.gserviceaccount.com&Expires=1680078705&Signature=W4uo0K38pAShcXVllaMJcvCTjL%2BMGznXp3Mvd1SsWk9NfJbxv8%2F49T4%2BgmOkLys3dpsQnCOTJC6FjNrFkqleflwAe3560IRjLqeF08ecWvA4ueKsXSK9INF8As%2FUefs8HQgSwJK2X43Aeidr2UXn8meE%2B%2FoTwV1rsu%2BstXdYZjvSxAMhIqwWaENLXy63wYWYJ6%2B4EvKQstBWbNbx56EvNXYeCXj9WyzOAjrcRSLVuhDMY1KkrOp4v%2BYhboPOkzVNGxTX7Sb%2Bc5tHgxc1ogrkzY%2BWBXu7JqYOga%2FtYtjmmVlcvHyOnOZun4My%2BwJgrxcubVtmMEBBzT0suvYCDIiW5w%3D%3D&response-content-disposition=attachment%3B+filename%3Dchallenges-in-representation-learning-facial-expression-recognition-challenge.zip'\n",
        "\n",
        "zip_file = get_file(fname = 'challenges-in-representation-learning-facial-expression-recognition-challenge.zip', origin = data_url, extract = True)\n",
        "\n",
        "base_dir, extension = os.path.splitext(zip_file)\n",
        "\n",
        "train = pd.read_csv('/root/.keras/datasets/train.csv')\n",
        "\n",
        "train['pixels'] = [np.fromstring(x, dtype = int, sep = ' ').reshape(-1, 48, 48, 1) for x in train['pixels']]\n",
        "pixels = np.concatenate(train['pixels'])\n",
        "labels = train.emotion.values\n",
        "\n",
        "from sklearn.model_selection import train_test_split\n",
        "\n",
        "X_train, X_test, y_train, y_test = train_test_split(pixels, labels, test_size=0.2, random_state = 101)\n",
        "\n",
        "X_train_new = np.repeat(X_train, repeats = 3, axis = 3)\n",
        "X_test_new = np.repeat(X_test, repeats = 3, axis = 3)\n",
        "\n",
        "from tensorflow.keras.utils import to_categorical\n",
        "\n",
        "y_train = to_categorical(y_train)\n",
        "y_test = to_categorical(y_test)\n",
        "\n",
        "from keras.preprocessing.image import ImageDataGenerator\n",
        "\n",
        "train_datagen = ImageDataGenerator(shear_range = 0.2, \n",
        "                                   width_shift_range = 0.2,\n",
        "                                   height_shift_range = 0.2,\n",
        "                                   zoom_range = 0.2, \n",
        "                                   horizontal_flip = True, \n",
        "                                   rescale = 1/255)\n",
        "test_datagen = ImageDataGenerator(rescale = 1/255)\n",
        "\n",
        "train_iter = train_datagen.flow(X_train_new, y_train)\n",
        "\n",
        "test_iter = test_datagen.flow(X_test_new, y_test)\n",
        "\n",
        "train_iter.reset()\n",
        "\n",
        "batchX, batchy = train_iter.next()\n",
        "\n",
        "Xmin = batchX.min()\n",
        "Xmax = batchX.max()\n",
        "\n",
        "ymin = batchy.min()\n",
        "ymax = batchy.max()"
      ],
      "metadata": {
        "colab": {
          "base_uri": "https://localhost:8080/"
        },
        "id": "nTGeskZaGeVV",
        "outputId": "f736712c-ff70-4c68-abf5-b88f5608afdb"
      },
      "execution_count": null,
      "outputs": [
        {
          "output_type": "stream",
          "name": "stdout",
          "text": [
            "Downloading data from https://storage.googleapis.com/kaggle-competitions-data/kaggle-v2/3364/31151/bundle/archive.zip?GoogleAccessId=web-data@kaggle-161607.iam.gserviceaccount.com&Expires=1680078705&Signature=W4uo0K38pAShcXVllaMJcvCTjL%2BMGznXp3Mvd1SsWk9NfJbxv8%2F49T4%2BgmOkLys3dpsQnCOTJC6FjNrFkqleflwAe3560IRjLqeF08ecWvA4ueKsXSK9INF8As%2FUefs8HQgSwJK2X43Aeidr2UXn8meE%2B%2FoTwV1rsu%2BstXdYZjvSxAMhIqwWaENLXy63wYWYJ6%2B4EvKQstBWbNbx56EvNXYeCXj9WyzOAjrcRSLVuhDMY1KkrOp4v%2BYhboPOkzVNGxTX7Sb%2Bc5tHgxc1ogrkzY%2BWBXu7JqYOga%2FtYtjmmVlcvHyOnOZun4My%2BwJgrxcubVtmMEBBzT0suvYCDIiW5w%3D%3D&response-content-disposition=attachment%3B+filename%3Dchallenges-in-representation-learning-facial-expression-recognition-challenge.zip\n",
            "299063632/299063632 [==============================] - 1s 0us/step\n"
          ]
        }
      ]
    },
    {
      "cell_type": "code",
      "source": [
        "img_width, img_height = 48, 48\n",
        "input_shape = (img_width, img_height, 1)\n",
        "\n",
        "num_class = 7\n",
        "batch_size = 32\n",
        "epochs = 100\n",
        "\n",
        "train_num = 28709\n",
        "test_num = 7178\n",
        "\n",
        "train_steps = train_num // batch_size\n",
        "test_steps = test_num // batch_size"
      ],
      "metadata": {
        "id": "yN8rxRnFGjvN"
      },
      "execution_count": null,
      "outputs": []
    },
    {
      "cell_type": "code",
      "source": [
        "base_model = tf.keras.applications.ResNet50(\n",
        "    input_shape = (48, 48, 3), \n",
        "    include_top = False)\n",
        "\n",
        "base_model.trainable = False\n",
        "\n",
        "base_model.summary()"
      ],
      "metadata": {
        "id": "M335wVjzIqbt"
      },
      "execution_count": null,
      "outputs": []
    },
    {
      "cell_type": "code",
      "source": [
        "model = keras.Sequential(name = 'Final_Project_2')\n",
        "model.add(base_model)\n",
        "model.add(layers.Flatten())\n",
        "model.add(layers.Dense(512, activation='relu'))\n",
        "model.add(layers.Dropout(0.5))\n",
        "model.add(layers.Dense(256, activation='relu'))\n",
        "model.add(layers.Dropout(0.25))\n",
        "model.add(layers.Dense(7, activation='softmax'))\n",
        "\n",
        "model.summary()"
      ],
      "metadata": {
        "colab": {
          "base_uri": "https://localhost:8080/"
        },
        "id": "VmD8GOaxJGv6",
        "outputId": "f22774ee-e01d-489b-bf38-c80ab957c47f"
      },
      "execution_count": null,
      "outputs": [
        {
          "output_type": "stream",
          "name": "stdout",
          "text": [
            "Model: \"Final_Project_2\"\n",
            "_________________________________________________________________\n",
            " Layer (type)                Output Shape              Param #   \n",
            "=================================================================\n",
            " resnet50 (Functional)       (None, 2, 2, 2048)        23587712  \n",
            "                                                                 \n",
            " flatten (Flatten)           (None, 8192)              0         \n",
            "                                                                 \n",
            " dense (Dense)               (None, 512)               4194816   \n",
            "                                                                 \n",
            " dropout (Dropout)           (None, 512)               0         \n",
            "                                                                 \n",
            " dense_1 (Dense)             (None, 256)               131328    \n",
            "                                                                 \n",
            " dropout_1 (Dropout)         (None, 256)               0         \n",
            "                                                                 \n",
            " dense_2 (Dense)             (None, 7)                 1799      \n",
            "                                                                 \n",
            "=================================================================\n",
            "Total params: 27,915,655\n",
            "Trainable params: 4,327,943\n",
            "Non-trainable params: 23,587,712\n",
            "_________________________________________________________________\n"
          ]
        }
      ]
    },
    {
      "cell_type": "code",
      "source": [
        "from keras.optimizers import Adam\n",
        "\n",
        "opt = tf.keras.optimizers.Adam()\n",
        "\n",
        "model.compile(optimizer = opt, loss = 'categorical_crossentropy', metrics = ['accuracy'])\n",
        "\n",
        "history = model.fit(X_train_new, y_train,\n",
        "           epochs = 100,\n",
        "           verbose = 1,\n",
        "           shuffle = True,\n",
        "           validation_data = (X_test_new, y_test))"
      ],
      "metadata": {
        "colab": {
          "base_uri": "https://localhost:8080/"
        },
        "id": "Fw7rKWIlJbao",
        "outputId": "5f7828ae-0678-45cf-b2ff-8b932ab8f46b"
      },
      "execution_count": null,
      "outputs": [
        {
          "output_type": "stream",
          "name": "stdout",
          "text": [
            "Epoch 1/100\n",
            "718/718 [==============================] - 33s 26ms/step - loss: 1.9889 - accuracy: 0.2683 - val_loss: 1.7328 - val_accuracy: 0.2914\n",
            "Epoch 2/100\n",
            "718/718 [==============================] - 19s 26ms/step - loss: 1.7560 - accuracy: 0.2843 - val_loss: 1.6805 - val_accuracy: 0.3257\n",
            "Epoch 3/100\n",
            "718/718 [==============================] - 17s 23ms/step - loss: 1.7150 - accuracy: 0.2951 - val_loss: 1.6665 - val_accuracy: 0.3274\n",
            "Epoch 4/100\n",
            "718/718 [==============================] - 16s 23ms/step - loss: 1.6981 - accuracy: 0.2993 - val_loss: 1.6408 - val_accuracy: 0.3185\n",
            "Epoch 5/100\n",
            "718/718 [==============================] - 16s 23ms/step - loss: 1.6848 - accuracy: 0.3043 - val_loss: 1.6316 - val_accuracy: 0.3231\n",
            "Epoch 6/100\n",
            "718/718 [==============================] - 17s 23ms/step - loss: 1.6776 - accuracy: 0.3036 - val_loss: 1.6253 - val_accuracy: 0.3730\n",
            "Epoch 7/100\n",
            "718/718 [==============================] - 19s 26ms/step - loss: 1.6600 - accuracy: 0.3145 - val_loss: 1.6192 - val_accuracy: 0.3265\n",
            "Epoch 8/100\n",
            "718/718 [==============================] - 19s 26ms/step - loss: 1.6569 - accuracy: 0.3133 - val_loss: 1.5874 - val_accuracy: 0.3499\n",
            "Epoch 9/100\n",
            "718/718 [==============================] - 19s 26ms/step - loss: 1.6419 - accuracy: 0.3246 - val_loss: 1.6109 - val_accuracy: 0.3873\n",
            "Epoch 10/100\n",
            "718/718 [==============================] - 19s 26ms/step - loss: 1.6284 - accuracy: 0.3266 - val_loss: 1.6125 - val_accuracy: 0.3523\n",
            "Epoch 11/100\n",
            "718/718 [==============================] - 17s 23ms/step - loss: 1.6200 - accuracy: 0.3358 - val_loss: 1.5798 - val_accuracy: 0.3570\n",
            "Epoch 12/100\n",
            "718/718 [==============================] - 17s 23ms/step - loss: 1.6179 - accuracy: 0.3343 - val_loss: 1.5763 - val_accuracy: 0.3642\n",
            "Epoch 13/100\n",
            "718/718 [==============================] - 19s 27ms/step - loss: 1.6062 - accuracy: 0.3389 - val_loss: 1.5731 - val_accuracy: 0.3723\n",
            "Epoch 14/100\n",
            "718/718 [==============================] - 19s 26ms/step - loss: 1.5984 - accuracy: 0.3450 - val_loss: 1.5727 - val_accuracy: 0.3992\n",
            "Epoch 15/100\n",
            "718/718 [==============================] - 19s 27ms/step - loss: 1.5915 - accuracy: 0.3454 - val_loss: 1.5590 - val_accuracy: 0.3711\n",
            "Epoch 16/100\n",
            "718/718 [==============================] - 17s 23ms/step - loss: 1.5834 - accuracy: 0.3477 - val_loss: 1.5425 - val_accuracy: 0.3755\n",
            "Epoch 17/100\n",
            "718/718 [==============================] - 17s 24ms/step - loss: 1.5776 - accuracy: 0.3504 - val_loss: 1.5709 - val_accuracy: 0.3697\n",
            "Epoch 18/100\n",
            "718/718 [==============================] - 16s 23ms/step - loss: 1.5645 - accuracy: 0.3550 - val_loss: 1.5401 - val_accuracy: 0.3783\n",
            "Epoch 19/100\n",
            "718/718 [==============================] - 19s 26ms/step - loss: 1.5587 - accuracy: 0.3583 - val_loss: 1.5348 - val_accuracy: 0.4166\n",
            "Epoch 20/100\n",
            "718/718 [==============================] - 19s 27ms/step - loss: 1.5572 - accuracy: 0.3571 - val_loss: 1.5294 - val_accuracy: 0.3751\n",
            "Epoch 21/100\n",
            "718/718 [==============================] - 17s 24ms/step - loss: 1.5540 - accuracy: 0.3594 - val_loss: 1.5718 - val_accuracy: 0.3680\n",
            "Epoch 22/100\n",
            "718/718 [==============================] - 16s 23ms/step - loss: 1.5499 - accuracy: 0.3636 - val_loss: 1.5438 - val_accuracy: 0.3758\n",
            "Epoch 23/100\n",
            "718/718 [==============================] - 17s 23ms/step - loss: 1.5362 - accuracy: 0.3633 - val_loss: 1.5318 - val_accuracy: 0.3797\n",
            "Epoch 24/100\n",
            "718/718 [==============================] - 19s 26ms/step - loss: 1.5366 - accuracy: 0.3630 - val_loss: 1.5396 - val_accuracy: 0.4114\n",
            "Epoch 25/100\n",
            "718/718 [==============================] - 16s 23ms/step - loss: 1.5279 - accuracy: 0.3684 - val_loss: 1.5426 - val_accuracy: 0.4216\n",
            "Epoch 26/100\n",
            "718/718 [==============================] - 19s 26ms/step - loss: 1.5194 - accuracy: 0.3711 - val_loss: 1.5368 - val_accuracy: 0.4129\n",
            "Epoch 27/100\n",
            "718/718 [==============================] - 19s 26ms/step - loss: 1.5145 - accuracy: 0.3714 - val_loss: 1.5420 - val_accuracy: 0.3849\n",
            "Epoch 28/100\n",
            "718/718 [==============================] - 19s 26ms/step - loss: 1.5154 - accuracy: 0.3755 - val_loss: 1.5369 - val_accuracy: 0.3817\n",
            "Epoch 29/100\n",
            "718/718 [==============================] - 17s 23ms/step - loss: 1.5113 - accuracy: 0.3745 - val_loss: 1.5512 - val_accuracy: 0.3993\n",
            "Epoch 30/100\n",
            "718/718 [==============================] - 17s 23ms/step - loss: 1.5063 - accuracy: 0.3723 - val_loss: 1.5319 - val_accuracy: 0.4188\n",
            "Epoch 31/100\n",
            "718/718 [==============================] - 17s 23ms/step - loss: 1.5028 - accuracy: 0.3783 - val_loss: 1.5477 - val_accuracy: 0.3807\n",
            "Epoch 32/100\n",
            "718/718 [==============================] - 19s 26ms/step - loss: 1.4944 - accuracy: 0.3722 - val_loss: 1.5347 - val_accuracy: 0.3925\n",
            "Epoch 33/100\n",
            "718/718 [==============================] - 19s 26ms/step - loss: 1.4921 - accuracy: 0.3805 - val_loss: 1.5625 - val_accuracy: 0.3971\n",
            "Epoch 34/100\n",
            "718/718 [==============================] - 17s 23ms/step - loss: 1.4923 - accuracy: 0.3773 - val_loss: 1.5535 - val_accuracy: 0.3629\n",
            "Epoch 35/100\n",
            "718/718 [==============================] - 17s 23ms/step - loss: 1.4884 - accuracy: 0.3809 - val_loss: 1.5387 - val_accuracy: 0.4155\n",
            "Epoch 36/100\n",
            "718/718 [==============================] - 19s 27ms/step - loss: 1.4772 - accuracy: 0.3865 - val_loss: 1.5496 - val_accuracy: 0.3715\n",
            "Epoch 37/100\n",
            "718/718 [==============================] - 16s 23ms/step - loss: 1.4777 - accuracy: 0.3860 - val_loss: 1.5484 - val_accuracy: 0.3960\n",
            "Epoch 38/100\n",
            "718/718 [==============================] - 17s 24ms/step - loss: 1.4706 - accuracy: 0.3863 - val_loss: 1.5483 - val_accuracy: 0.3997\n",
            "Epoch 39/100\n",
            "718/718 [==============================] - 19s 26ms/step - loss: 1.4719 - accuracy: 0.3861 - val_loss: 1.5504 - val_accuracy: 0.3981\n",
            "Epoch 40/100\n",
            "718/718 [==============================] - 19s 26ms/step - loss: 1.4615 - accuracy: 0.3884 - val_loss: 1.5576 - val_accuracy: 0.3946\n",
            "Epoch 41/100\n",
            "718/718 [==============================] - 19s 27ms/step - loss: 1.4778 - accuracy: 0.3798 - val_loss: 1.5547 - val_accuracy: 0.3729\n",
            "Epoch 42/100\n",
            "718/718 [==============================] - 16s 23ms/step - loss: 1.4653 - accuracy: 0.3842 - val_loss: 1.5661 - val_accuracy: 0.4030\n",
            "Epoch 43/100\n",
            "718/718 [==============================] - 16s 22ms/step - loss: 1.4625 - accuracy: 0.3874 - val_loss: 1.5787 - val_accuracy: 0.3751\n",
            "Epoch 44/100\n",
            "718/718 [==============================] - 16s 22ms/step - loss: 1.4602 - accuracy: 0.3864 - val_loss: 1.5746 - val_accuracy: 0.3833\n",
            "Epoch 45/100\n",
            "718/718 [==============================] - 18s 26ms/step - loss: 1.4616 - accuracy: 0.3858 - val_loss: 1.5725 - val_accuracy: 0.3784\n",
            "Epoch 46/100\n",
            "718/718 [==============================] - 16s 22ms/step - loss: 1.4518 - accuracy: 0.3928 - val_loss: 1.5717 - val_accuracy: 0.3945\n",
            "Epoch 47/100\n",
            "718/718 [==============================] - 19s 27ms/step - loss: 1.4437 - accuracy: 0.3954 - val_loss: 1.5970 - val_accuracy: 0.3798\n",
            "Epoch 48/100\n",
            "718/718 [==============================] - 17s 24ms/step - loss: 1.4559 - accuracy: 0.3912 - val_loss: 1.5966 - val_accuracy: 0.3811\n",
            "Epoch 49/100\n",
            "718/718 [==============================] - 19s 27ms/step - loss: 1.4489 - accuracy: 0.3934 - val_loss: 1.5664 - val_accuracy: 0.3995\n",
            "Epoch 50/100\n",
            "718/718 [==============================] - 19s 27ms/step - loss: 1.4313 - accuracy: 0.4018 - val_loss: 1.5920 - val_accuracy: 0.3932\n",
            "Epoch 51/100\n",
            "718/718 [==============================] - 19s 27ms/step - loss: 1.4414 - accuracy: 0.3951 - val_loss: 1.5835 - val_accuracy: 0.3784\n",
            "Epoch 52/100\n",
            "718/718 [==============================] - 17s 24ms/step - loss: 1.4418 - accuracy: 0.3970 - val_loss: 1.5707 - val_accuracy: 0.4094\n",
            "Epoch 53/100\n",
            "718/718 [==============================] - 19s 27ms/step - loss: 1.4399 - accuracy: 0.3935 - val_loss: 1.5735 - val_accuracy: 0.4002\n",
            "Epoch 54/100\n",
            "718/718 [==============================] - 17s 24ms/step - loss: 1.4398 - accuracy: 0.3930 - val_loss: 1.6335 - val_accuracy: 0.4049\n",
            "Epoch 55/100\n",
            "718/718 [==============================] - 19s 27ms/step - loss: 1.4299 - accuracy: 0.4045 - val_loss: 1.5834 - val_accuracy: 0.4126\n",
            "Epoch 56/100\n",
            "718/718 [==============================] - 17s 24ms/step - loss: 1.4315 - accuracy: 0.4007 - val_loss: 1.5940 - val_accuracy: 0.3685\n",
            "Epoch 57/100\n",
            "718/718 [==============================] - 19s 27ms/step - loss: 1.4239 - accuracy: 0.3985 - val_loss: 1.6193 - val_accuracy: 0.3979\n",
            "Epoch 58/100\n",
            "718/718 [==============================] - 19s 27ms/step - loss: 1.4300 - accuracy: 0.3987 - val_loss: 1.6354 - val_accuracy: 0.3739\n",
            "Epoch 59/100\n",
            "718/718 [==============================] - 19s 27ms/step - loss: 1.4249 - accuracy: 0.3973 - val_loss: 1.6159 - val_accuracy: 0.4115\n",
            "Epoch 60/100\n",
            "718/718 [==============================] - 20s 27ms/step - loss: 1.4211 - accuracy: 0.4028 - val_loss: 1.6283 - val_accuracy: 0.4091\n",
            "Epoch 61/100\n",
            "718/718 [==============================] - 22s 31ms/step - loss: 1.4188 - accuracy: 0.4021 - val_loss: 1.6071 - val_accuracy: 0.3974\n",
            "Epoch 62/100\n",
            "718/718 [==============================] - 24s 34ms/step - loss: 1.4197 - accuracy: 0.4052 - val_loss: 1.6407 - val_accuracy: 0.3835\n",
            "Epoch 63/100\n",
            "718/718 [==============================] - 19s 27ms/step - loss: 1.4183 - accuracy: 0.4048 - val_loss: 1.5978 - val_accuracy: 0.4000\n",
            "Epoch 64/100\n",
            "718/718 [==============================] - 20s 27ms/step - loss: 1.4295 - accuracy: 0.4053 - val_loss: 1.7109 - val_accuracy: 0.3990\n",
            "Epoch 65/100\n",
            "718/718 [==============================] - 18s 25ms/step - loss: 1.4200 - accuracy: 0.4078 - val_loss: 1.6511 - val_accuracy: 0.4004\n",
            "Epoch 66/100\n",
            "718/718 [==============================] - 30s 42ms/step - loss: 1.3970 - accuracy: 0.4103 - val_loss: 1.6634 - val_accuracy: 0.3908\n",
            "Epoch 67/100\n",
            "718/718 [==============================] - 32s 45ms/step - loss: 1.4106 - accuracy: 0.4061 - val_loss: 1.6301 - val_accuracy: 0.4018\n",
            "Epoch 68/100\n",
            "718/718 [==============================] - 20s 28ms/step - loss: 1.4079 - accuracy: 0.4120 - val_loss: 1.6620 - val_accuracy: 0.3922\n",
            "Epoch 69/100\n",
            "718/718 [==============================] - 20s 28ms/step - loss: 1.4116 - accuracy: 0.4081 - val_loss: 1.6207 - val_accuracy: 0.3751\n",
            "Epoch 70/100\n",
            "718/718 [==============================] - 18s 25ms/step - loss: 1.4076 - accuracy: 0.4072 - val_loss: 1.6523 - val_accuracy: 0.3607\n",
            "Epoch 71/100\n",
            "718/718 [==============================] - 19s 26ms/step - loss: 1.4019 - accuracy: 0.4124 - val_loss: 1.6739 - val_accuracy: 0.3899\n",
            "Epoch 72/100\n",
            "718/718 [==============================] - 18s 25ms/step - loss: 1.4072 - accuracy: 0.4097 - val_loss: 1.6524 - val_accuracy: 0.4040\n",
            "Epoch 73/100\n",
            "718/718 [==============================] - 20s 28ms/step - loss: 1.4153 - accuracy: 0.4092 - val_loss: 1.6690 - val_accuracy: 0.3875\n",
            "Epoch 74/100\n",
            "718/718 [==============================] - 20s 28ms/step - loss: 1.4024 - accuracy: 0.4108 - val_loss: 1.6559 - val_accuracy: 0.4032\n",
            "Epoch 75/100\n",
            "718/718 [==============================] - 19s 27ms/step - loss: 1.3984 - accuracy: 0.4119 - val_loss: 1.7302 - val_accuracy: 0.3823\n",
            "Epoch 76/100\n",
            "718/718 [==============================] - 21s 29ms/step - loss: 1.3909 - accuracy: 0.4161 - val_loss: 1.6761 - val_accuracy: 0.3753\n",
            "Epoch 77/100\n",
            "718/718 [==============================] - 20s 28ms/step - loss: 1.3993 - accuracy: 0.4119 - val_loss: 1.6513 - val_accuracy: 0.3880\n",
            "Epoch 78/100\n",
            "718/718 [==============================] - 20s 28ms/step - loss: 1.3923 - accuracy: 0.4188 - val_loss: 1.6624 - val_accuracy: 0.3962\n",
            "Epoch 79/100\n",
            "718/718 [==============================] - 20s 28ms/step - loss: 1.3988 - accuracy: 0.4134 - val_loss: 1.6906 - val_accuracy: 0.3878\n",
            "Epoch 80/100\n",
            "718/718 [==============================] - 20s 28ms/step - loss: 1.3875 - accuracy: 0.4166 - val_loss: 1.7173 - val_accuracy: 0.3906\n",
            "Epoch 81/100\n",
            "718/718 [==============================] - 18s 25ms/step - loss: 1.3956 - accuracy: 0.4144 - val_loss: 1.7072 - val_accuracy: 0.3920\n",
            "Epoch 82/100\n",
            "718/718 [==============================] - 18s 25ms/step - loss: 1.3889 - accuracy: 0.4126 - val_loss: 1.7079 - val_accuracy: 0.3985\n",
            "Epoch 83/100\n",
            "718/718 [==============================] - 17s 24ms/step - loss: 1.3976 - accuracy: 0.4161 - val_loss: 1.7493 - val_accuracy: 0.3765\n",
            "Epoch 84/100\n",
            "718/718 [==============================] - 17s 24ms/step - loss: 1.3739 - accuracy: 0.4231 - val_loss: 1.7795 - val_accuracy: 0.3868\n",
            "Epoch 85/100\n",
            "718/718 [==============================] - 16s 23ms/step - loss: 1.3837 - accuracy: 0.4191 - val_loss: 1.7014 - val_accuracy: 0.3811\n",
            "Epoch 86/100\n",
            "718/718 [==============================] - 18s 26ms/step - loss: 1.3815 - accuracy: 0.4205 - val_loss: 1.7739 - val_accuracy: 0.3859\n",
            "Epoch 87/100\n",
            "718/718 [==============================] - 19s 26ms/step - loss: 1.3882 - accuracy: 0.4198 - val_loss: 1.7050 - val_accuracy: 0.3405\n",
            "Epoch 88/100\n",
            "718/718 [==============================] - 16s 22ms/step - loss: 1.3912 - accuracy: 0.4144 - val_loss: 1.7238 - val_accuracy: 0.3854\n",
            "Epoch 89/100\n",
            "718/718 [==============================] - 16s 22ms/step - loss: 1.3880 - accuracy: 0.4146 - val_loss: 1.7919 - val_accuracy: 0.3509\n",
            "Epoch 90/100\n",
            "718/718 [==============================] - 18s 26ms/step - loss: 1.3828 - accuracy: 0.4154 - val_loss: 1.7330 - val_accuracy: 0.3652\n",
            "Epoch 91/100\n",
            "718/718 [==============================] - 19s 27ms/step - loss: 1.3820 - accuracy: 0.4195 - val_loss: 1.7550 - val_accuracy: 0.3877\n",
            "Epoch 92/100\n",
            "718/718 [==============================] - 17s 24ms/step - loss: 1.3894 - accuracy: 0.4176 - val_loss: 1.7798 - val_accuracy: 0.3842\n",
            "Epoch 93/100\n",
            "718/718 [==============================] - 19s 26ms/step - loss: 1.3711 - accuracy: 0.4270 - val_loss: 1.8071 - val_accuracy: 0.3774\n",
            "Epoch 94/100\n",
            "718/718 [==============================] - 18s 25ms/step - loss: 1.3822 - accuracy: 0.4186 - val_loss: 1.8330 - val_accuracy: 0.3673\n",
            "Epoch 95/100\n",
            "718/718 [==============================] - 18s 24ms/step - loss: 1.3825 - accuracy: 0.4176 - val_loss: 1.7950 - val_accuracy: 0.3856\n",
            "Epoch 96/100\n",
            "718/718 [==============================] - 20s 27ms/step - loss: 1.3765 - accuracy: 0.4253 - val_loss: 1.7237 - val_accuracy: 0.3499\n",
            "Epoch 97/100\n",
            "718/718 [==============================] - 18s 25ms/step - loss: 1.3757 - accuracy: 0.4237 - val_loss: 1.7495 - val_accuracy: 0.3556\n",
            "Epoch 98/100\n",
            "718/718 [==============================] - 20s 27ms/step - loss: 1.3760 - accuracy: 0.4211 - val_loss: 1.8596 - val_accuracy: 0.3957\n",
            "Epoch 99/100\n",
            "718/718 [==============================] - 16s 23ms/step - loss: 1.3705 - accuracy: 0.4242 - val_loss: 1.8568 - val_accuracy: 0.3934\n",
            "Epoch 100/100\n",
            "718/718 [==============================] - 18s 26ms/step - loss: 1.3770 - accuracy: 0.4224 - val_loss: 1.7898 - val_accuracy: 0.3844\n"
          ]
        }
      ]
    },
    {
      "cell_type": "code",
      "source": [
        "score = model.evaluate(test_iter)\n",
        "\n",
        "print('Test loss:', score[0])\n",
        "print('Test accuracy:', score[1])\n",
        "\n",
        "from sklearn.metrics import confusion_matrix\n",
        "\n",
        "y_pred = model.predict(X_train_new).argmax(axis = 1)\n",
        "y_train = np.argmax(y_train, axis = 1)\n",
        "\n",
        "confusion_matrix(y_train, y_pred)"
      ],
      "metadata": {
        "colab": {
          "base_uri": "https://localhost:8080/"
        },
        "id": "v_ZU_FhNbZPE",
        "outputId": "23a0473e-a576-43d2-85c3-6d6401744e9d"
      },
      "execution_count": null,
      "outputs": [
        {
          "output_type": "stream",
          "name": "stdout",
          "text": [
            "180/180 [==============================] - 4s 19ms/step - loss: 1.8526 - accuracy: 0.1825\n",
            "Test loss: 1.852625846862793\n",
            "Test accuracy: 0.18251480162143707\n",
            "718/718 [==============================] - 11s 15ms/step\n"
          ]
        },
        {
          "output_type": "execute_result",
          "data": {
            "text/plain": [
              "array([[1168,    0,  794,   99,    9,    0, 1157],\n",
              "       [  65,    0,  173,   12,    5,    0,  109],\n",
              "       [ 125,    0, 2031,  118,  249,   71,  641],\n",
              "       [   0,    0,  160, 4265,    2,    0, 1332],\n",
              "       [ 137,    0,  991,   95, 1475,    0, 1141],\n",
              "       [   0,    0,  454,   70,    0, 1666,  382],\n",
              "       [   0,    0,  360,  178,    5,    0, 3428]])"
            ]
          },
          "metadata": {},
          "execution_count": 8
        }
      ]
    },
    {
      "cell_type": "code",
      "source": [
        "plt.figure(figsize=(6, 6))\n",
        "plt.title('Model accuracy')\n",
        "\n",
        "plt.plot(history.history['accuracy'])\n",
        "plt.plot(history.history['val_accuracy'])\n",
        "\n",
        "plt.ylabel('Accuracy')\n",
        "plt.xlabel('Epoch')\n",
        "plt.legend(['Train', 'Validation'], loc='upper left')\n",
        "plt.show()"
      ],
      "metadata": {
        "colab": {
          "base_uri": "https://localhost:8080/",
          "height": 404
        },
        "id": "dpTTbzNZbwkM",
        "outputId": "3570a02e-bc10-43e1-a935-885f2b9a340a"
      },
      "execution_count": null,
      "outputs": [
        {
          "output_type": "display_data",
          "data": {
            "text/plain": [
              "<Figure size 432x432 with 1 Axes>"
            ],
            "image/png": "[encoded data removed]"
          },
          "metadata": {
            "needs_background": "light"
          }
        }
      ]
    },
    {
      "cell_type": "code",
      "source": [
        "tf.keras.models.save_model(model, 'my_model2.hdf5')"
      ],
      "metadata": {
        "id": "ACOc67azb1d1"
      },
      "execution_count": null,
      "outputs": []
    },
    {
      "cell_type": "code",
      "source": [],
      "metadata": {
        "id": "7CK6z4Cxeh-k"
      },
      "execution_count": null,
      "outputs": []
    }
  ]
}
