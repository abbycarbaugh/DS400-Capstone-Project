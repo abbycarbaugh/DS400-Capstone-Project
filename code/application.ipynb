{
  "nbformat": 4,
  "nbformat_minor": 0,
  "metadata": {
    "colab": {
      "provenance": []
    },
    "kernelspec": {
      "name": "python3",
      "display_name": "Python 3"
    },
    "language_info": {
      "name": "python"
    }
  },
  "cells": [
    {
      "cell_type": "code",
      "source": [
        "!pip install -q streamlit"
      ],
      "metadata": {
        "id": "1o5HuTwGt7en"
      },
      "execution_count": null,
      "outputs": []
    },
    {
      "cell_type": "code",
      "source": [
        "!npm install localtunnel"
      ],
      "metadata": {
        "colab": {
          "base_uri": "https://localhost:8080/"
        },
        "id": "Awdnty52yPYm",
        "outputId": "bc2a170d-adc8-45a2-e422-09334cb5a11c"
      },
      "execution_count": null,
      "outputs": [
        {
          "output_type": "stream",
          "name": "stdout",
          "text": [
            "\u001b[K\u001b[?25h\u001b[37;40mnpm\u001b[0m \u001b[0m\u001b[30;43mWARN\u001b[0m \u001b[0m\u001b[35msaveError\u001b[0m ENOENT: no such file or directory, open '/content/package.json'\n",
            "\u001b[0m\u001b[37;40mnpm\u001b[0m \u001b[0m\u001b[30;43mWARN\u001b[0m \u001b[0m\u001b[35menoent\u001b[0m ENOENT: no such file or directory, open '/content/package.json'\n",
            "\u001b[0m\u001b[37;40mnpm\u001b[0m \u001b[0m\u001b[30;43mWARN\u001b[0m\u001b[35m\u001b[0m content No description\n",
            "\u001b[0m\u001b[37;40mnpm\u001b[0m \u001b[0m\u001b[30;43mWARN\u001b[0m\u001b[35m\u001b[0m content No repository field.\n",
            "\u001b[0m\u001b[37;40mnpm\u001b[0m \u001b[0m\u001b[30;43mWARN\u001b[0m\u001b[35m\u001b[0m content No README data\n",
            "\u001b[0m\u001b[37;40mnpm\u001b[0m \u001b[0m\u001b[30;43mWARN\u001b[0m\u001b[35m\u001b[0m content No license field.\n",
            "\u001b[0m\n",
            "+ localtunnel@2.0.2\n",
            "updated 1 package and audited 36 packages in 0.512s\n",
            "\n",
            "3 packages are looking for funding\n",
            "  run `npm fund` for details\n",
            "\n",
            "found \u001b[92m0\u001b[0m vulnerabilities\n",
            "\n",
            "\u001b[K\u001b[?25h"
          ]
        }
      ]
    },
    {
      "cell_type": "code",
      "source": [
        "%%writefile app.py\n",
        "\n",
        "import streamlit as st\n",
        "import tensorflow as tf\n",
        "import numpy as np\n",
        "from PIL import Image, ImageOps\n",
        "\n",
        "\n",
        "st.write(\"\"\"\n",
        "         # Facial Emotion Classifier\n",
        "         \"\"\"\n",
        "         )\n",
        "st.write(\"This is a simple image classification web app to predict facial emotions\")\n",
        "file = st.file_uploader(\"Please upload an image file\", type=[\"jpg\", \"png\"])\n",
        "\n",
        "generate_pred = st.sidebar.button('Predict')\n",
        "model = tf.keras.models.load_model('/content/my_model.hdf5')\n",
        "\n",
        "def import_and_predict(image_data, model):\n",
        "  size = (48, 48)\n",
        "  image = ImageOps.fit(image_data, size, Image.ANTIALIAS)\n",
        "  img = np.asarray(image)\n",
        "  reshape = img[np.newaxis, ...]\n",
        "  pred = model.predict(reshape)\n",
        "  return pred\n",
        "\n",
        "if generate_pred:\n",
        "  image = Image.open(file)\n",
        "  with st.beta_expander('Cell Image', expanded = True):\n",
        "    st.image(image, use_column_width = True)\n",
        "  pred = import_and_predict(image, model)\n",
        "  labels = ['Angry', \n",
        "           'Disgust', \n",
        "           'Fear', \n",
        "           'Happy', \n",
        "           'Sad', \n",
        "           'Surprised', \n",
        "           'Neutral']\n",
        "  st.title('Prediction of image is: {}'.format(labels[np.argmax(pred)]))"
      ],
      "metadata": {
        "colab": {
          "base_uri": "https://localhost:8080/"
        },
        "id": "AnpMPOsR_91p",
        "outputId": "aadc7e11-da9e-49e4-9e2b-b8b001cf20b6"
      },
      "execution_count": null,
      "outputs": [
        {
          "output_type": "stream",
          "name": "stdout",
          "text": [
            "Overwriting app.py\n"
          ]
        }
      ]
    },
    {
      "cell_type": "code",
      "source": [
        "!streamlit run /content/app.py &>/content/logs.txt &\n",
        "\n",
        "!npx localtunnel --port 8501"
      ],
      "metadata": {
        "colab": {
          "base_uri": "https://localhost:8080/"
        },
        "id": "CKs2BIBbwTJv",
        "outputId": "4d04858e-f4de-4b85-9622-57d31a8f9055"
      },
      "execution_count": null,
      "outputs": [
        {
          "output_type": "stream",
          "name": "stdout",
          "text": [
            "\u001b[K\u001b[?25hnpx: installed 22 in 5.023s\n",
            "your url is: https://small-kings-act-35-245-93-57.loca.lt\n",
            "^C\n"
          ]
        }
      ]
    }
  ]
}
