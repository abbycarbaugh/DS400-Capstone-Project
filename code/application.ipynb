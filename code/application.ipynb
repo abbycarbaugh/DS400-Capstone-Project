{
  "cells": [
    {
      "cell_type": "code",
      "execution_count": 1,
      "metadata": {
        "id": "1o5HuTwGt7en"
      },
      "outputs": [],
      "source": [
        "!pip install -q streamlit"
      ]
    },
    {
      "cell_type": "code",
      "execution_count": 2,
      "metadata": {
        "colab": {
          "base_uri": "https://localhost:8080/"
        },
        "id": "Awdnty52yPYm",
        "outputId": "f4ec8385-3268-4cf7-9709-876478df09a7"
      },
      "outputs": [
        {
          "output_type": "stream",
          "name": "stdout",
          "text": [
            "\u001b[K\u001b[?25h\u001b[37;40mnpm\u001b[0m \u001b[0m\u001b[30;43mWARN\u001b[0m \u001b[0m\u001b[35msaveError\u001b[0m ENOENT: no such file or directory, open '/content/package.json'\n",
            "\u001b[K\u001b[?25h\u001b[37;40mnpm\u001b[0m \u001b[0m\u001b[30;43mWARN\u001b[0m \u001b[0m\u001b[35menoent\u001b[0m ENOENT: no such file or directory, open '/content/package.json'\n",
            "\u001b[0m\u001b[37;40mnpm\u001b[0m \u001b[0m\u001b[30;43mWARN\u001b[0m\u001b[35m\u001b[0m content No description\n",
            "\u001b[0m\u001b[37;40mnpm\u001b[0m \u001b[0m\u001b[30;43mWARN\u001b[0m\u001b[35m\u001b[0m content No repository field.\n",
            "\u001b[0m\u001b[37;40mnpm\u001b[0m \u001b[0m\u001b[30;43mWARN\u001b[0m\u001b[35m\u001b[0m content No README data\n",
            "\u001b[0m\u001b[37;40mnpm\u001b[0m \u001b[0m\u001b[30;43mWARN\u001b[0m\u001b[35m\u001b[0m content No license field.\n",
            "\u001b[0m\n",
            "+ localtunnel@2.0.2\n",
            "updated 1 package and audited 36 packages in 1.537s\n",
            "\n",
            "3 packages are looking for funding\n",
            "  run `npm fund` for details\n",
            "\n",
            "found \u001b[92m0\u001b[0m vulnerabilities\n",
            "\n",
            "\u001b[K\u001b[?25h"
          ]
        }
      ],
      "source": [
        "!npm install localtunnel"
      ]
    },
    {
      "cell_type": "code",
      "execution_count": 5,
      "metadata": {
        "id": "AnpMPOsR_91p",
        "colab": {
          "base_uri": "https://localhost:8080/"
        },
        "outputId": "e6937bd7-7adb-4a99-ebf2-443588558b73"
      },
      "outputs": [
        {
          "output_type": "stream",
          "name": "stdout",
          "text": [
            "Overwriting app.py\n"
          ]
        }
      ],
      "source": [
        "%%writefile app.py\n",
        "\n",
        "import streamlit as st\n",
        "import tensorflow as tf\n",
        "import numpy as np\n",
        "from PIL import Image, ImageOps\n",
        "\n",
        "\n",
        "st.write(\"\"\"\n",
        "         # Facial Emotion Classifier\n",
        "         \"\"\"\n",
        "         )\n",
        "st.write(\"This is a simple image classification web app to predict facial emotions\")\n",
        "file = st.file_uploader(\"Please upload an image:\", type=[\"jpg\", \"png\"])\n",
        "\n",
        "generate_pred = st.button('Predict')\n",
        "model = tf.keras.models.load_model('/content/vgg_model.hdf5')\n",
        "\n",
        "def import_and_predict(image_data, model):\n",
        "  size = (48, 48)\n",
        "  image = ImageOps.fit(image_data, size, Image.ANTIALIAS)\n",
        "  img = np.asarray(image)\n",
        "  reshape = img[np.newaxis, ...]\n",
        "  pred = model.predict(reshape)\n",
        "  return pred\n",
        "\n",
        "if generate_pred:\n",
        "  image = Image.open(file)\n",
        "  with st.expander('Cell Image', expanded = True):\n",
        "    st.image(image, use_column_width = True)\n",
        "  pred = import_and_predict(image, model)\n",
        "  labels = ['Angry', \n",
        "           'Disgust', \n",
        "           'Fear', \n",
        "           'Happy', \n",
        "           'Sad', \n",
        "           'Surprised', \n",
        "           'Neutral']\n",
        "  st.title('Prediction of image is: {}'.format(labels[np.argmax(pred)]))"
      ]
    },
    {
      "cell_type": "code",
      "execution_count": null,
      "metadata": {
        "id": "CKs2BIBbwTJv",
        "colab": {
          "base_uri": "https://localhost:8080/"
        },
        "outputId": "fa3ecd43-3c03-4e89-93e4-cedc22cad264"
      },
      "outputs": [
        {
          "output_type": "stream",
          "name": "stdout",
          "text": [
            "\u001b[K\u001b[?25hnpx: installed 22 in 4.162s\n",
            "your url is: https://busy-impalas-stop-34-72-16-12.loca.lt\n"
          ]
        }
      ],
      "source": [
        "!streamlit run /content/app.py &>/content/logs.txt &\n",
        "\n",
        "!npx localtunnel --port 8501"
      ]
    },
    {
      "cell_type": "code",
      "source": [],
      "metadata": {
        "id": "Jt5owTzKTOvE"
      },
      "execution_count": null,
      "outputs": []
    }
  ],
  "metadata": {
    "colab": {
      "provenance": []
    },
    "kernelspec": {
      "display_name": "Python 3",
      "name": "python3"
    },
    "language_info": {
      "name": "python"
    }
  },
  "nbformat": 4,
  "nbformat_minor": 0
}