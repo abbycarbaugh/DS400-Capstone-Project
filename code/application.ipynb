{
  "cells": [
    {
      "cell_type": "code",
      "execution_count": 20,
      "metadata": {
        "id": "1o5HuTwGt7en"
      },
      "outputs": [],
      "source": [
        "!pip install streamlit --quiet"
      ]
    },
    {
      "cell_type": "code",
      "execution_count": 60,
      "metadata": {
        "colab": {
          "base_uri": "https://localhost:8080/"
        },
        "id": "AnpMPOsR_91p",
        "outputId": "b55b824a-53f5-4e83-fd5d-726e086287de"
      },
      "outputs": [
        {
          "output_type": "stream",
          "name": "stdout",
          "text": [
            "Overwriting app.py\n"
          ]
        }
      ],
      "source": [
        "%%writefile app.py\n",
        "\n",
        "import streamlit as st\n",
        "import tensorflow as tf\n",
        "import numpy as np\n",
        "from PIL import Image, ImageOps\n",
        "import webbrowser\n",
        "\n",
        "st.write(\"\"\"\n",
        "        # Facial Emotion Classifier\n",
        "        \"\"\"\n",
        "        )\n",
        "st.write(\"This is an image classification web app using developed in order to predict facial expressions\")\n",
        "file = st.file_uploader(\"Please upload an image:\", type=[\"jpg\", \"png\"])\n",
        "\n",
        "generate_pred = st.button('Predict')\n",
        "model = tf.keras.models.load_model('/content/vgg_model.hdf5')\n",
        "\n",
        "def import_and_predict(image_data, model):\n",
        "  size = (48, 48)\n",
        "  image = ImageOps.fit(image_data, size, Image.ANTIALIAS)\n",
        "  img = np.asarray(image)\n",
        "  reshape = img[np.newaxis, ...]\n",
        "  pred = model.predict(reshape)\n",
        "  return pred\n",
        "\n",
        "if generate_pred:\n",
        "  image = Image.open(file)\n",
        "  with st.expander('Cell Image', expanded = True):\n",
        "    st.image(image, use_column_width = True)\n",
        "  pred = import_and_predict(image, model)\n",
        "  labels = ['Angry', \n",
        "          'Disgust', \n",
        "          'Fear', \n",
        "          'Happy', \n",
        "          'Sad', \n",
        "          'Surprised', \n",
        "          'Neutral']\n",
        "  st.write('Prediction of image is: {}'.format(labels[np.argmax(pred)]))\n",
        "\n",
        "with st.expander(\"Background\"):\n",
        "  st.write(\"Facial expressions are a vital part of human communication, and for most people, recognizing them is second nature. For individuals with autism and others in the community, however, may have a more difficult time recognizing and comprehending these expressions. To help individuals overcome this challenge, the project aims to develop a deep neural network model that can accurately recognize facial expressions. In order to achieve this, a dataset containing photos of people with different expressions was used to train and test the model. This dataset includes images with a variety of expressions, including happy, sad, angry,  surprised, neutral, fear and disgust. Once the model was trained and optimized, it was integrated into an application that can analyze personal photos and predict the facial expression in the image. Once further optimized, this will provide a valuable tool for those with autism and those in the community to better understand the emotions of those around them. This application could also be valuable in the psychology and education fields, where accurate recognition of facial expressions is crucial for understanding human behavior and interactions. Overall, this project has the potential to improve the lives of many individuals and contribute to the advancement of technology in various fields.\")\n",
        "with st.expander(\"About\"):\n",
        "  st.write(\"This project uses dataset from a Kaggle challenge, Challenges in Representation Learning: Facial Recognition Challenge. The dataset contains 48x48 greyscale images of faces with different expressions. For this multiclass classification problem there are seven categories - angry, disgust, fear, happy, sad, surprise and neutral - that the expression can be classified as. The goal for this project is to create a machine learning model using neural networks that can accurately predict the facial expression shown. Along with using the dataset's photos, personal photos of people with different facial expressions will be used in order to test this model's accuracy.\")\n",
        "st.markdown(\"[![Title](<https://img.icons8.com/material-outlined/48/000000/github.png>)](<https://github.com/abbycarbaugh/DS400-Capstone-Project>)\")"
      ]
    },
    {
      "cell_type": "code",
      "source": [
        "!npm install localtunnel"
      ],
      "metadata": {
        "colab": {
          "base_uri": "https://localhost:8080/"
        },
        "id": "NOcK41yQH6w9",
        "outputId": "32177732-fc82-4ecf-f191-fa44899fdfc6"
      },
      "execution_count": 22,
      "outputs": [
        {
          "output_type": "stream",
          "name": "stdout",
          "text": [
            "\u001b[K\u001b[?25h\u001b[37;40mnpm\u001b[0m \u001b[0m\u001b[30;43mWARN\u001b[0m \u001b[0m\u001b[35msaveError\u001b[0m ENOENT: no such file or directory, open '/content/package.json'\n",
            "\u001b[K\u001b[?25h\u001b[37;40mnpm\u001b[0m \u001b[0m\u001b[30;43mWARN\u001b[0m \u001b[0m\u001b[35menoent\u001b[0m ENOENT: no such file or directory, open '/content/package.json'\n",
            "\u001b[0m\u001b[37;40mnpm\u001b[0m \u001b[0m\u001b[30;43mWARN\u001b[0m\u001b[35m\u001b[0m content No description\n",
            "\u001b[0m\u001b[37;40mnpm\u001b[0m \u001b[0m\u001b[30;43mWARN\u001b[0m\u001b[35m\u001b[0m content No repository field.\n",
            "\u001b[0m\u001b[37;40mnpm\u001b[0m \u001b[0m\u001b[30;43mWARN\u001b[0m\u001b[35m\u001b[0m content No README data\n",
            "\u001b[0m\u001b[37;40mnpm\u001b[0m \u001b[0m\u001b[30;43mWARN\u001b[0m\u001b[35m\u001b[0m content No license field.\n",
            "\u001b[0m\n",
            "+ localtunnel@2.0.2\n",
            "updated 1 package and audited 36 packages in 1.028s\n",
            "\n",
            "3 packages are looking for funding\n",
            "  run `npm fund` for details\n",
            "\n",
            "found \u001b[92m0\u001b[0m vulnerabilities\n",
            "\n",
            "\u001b[K\u001b[?25h"
          ]
        }
      ]
    },
    {
      "cell_type": "code",
      "execution_count": 61,
      "metadata": {
        "colab": {
          "base_uri": "https://localhost:8080/"
        },
        "id": "CKs2BIBbwTJv",
        "outputId": "a8d2f97a-2cf4-4113-af77-3b33f79365e1"
      },
      "outputs": [
        {
          "output_type": "stream",
          "name": "stdout",
          "text": [
            "\u001b[K\u001b[?25hnpx: installed 22 in 4.507s\n",
            "your url is: https://cold-banks-hear-34-125-245-184.loca.lt\n",
            "^C\n"
          ]
        }
      ],
      "source": [
        "!streamlit run app.py &>/content/logs.txt & \n",
        "\n",
        "!npx localtunnel --port 8501"
      ]
    },
    {
      "cell_type": "code",
      "source": [],
      "metadata": {
        "id": "nWEmRDeTQmge"
      },
      "execution_count": 23,
      "outputs": []
    }
  ],
  "metadata": {
    "colab": {
      "provenance": []
    },
    "kernelspec": {
      "display_name": "Python 3",
      "name": "python3"
    },
    "language_info": {
      "name": "python"
    }
  },
  "nbformat": 4,
  "nbformat_minor": 0
}