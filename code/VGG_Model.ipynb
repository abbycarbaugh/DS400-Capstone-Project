{
  "nbformat": 4,
  "nbformat_minor": 0,
  "metadata": {
    "colab": {
      "provenance": []
    },
    "kernelspec": {
      "name": "python3",
      "display_name": "Python 3"
    },
    "language_info": {
      "name": "python"
    },
    "accelerator": "GPU",
    "gpuClass": "standard"
  },
  "cells": [
    {
      "cell_type": "code",
      "execution_count": null,
      "metadata": {
        "id": "B1WXuPzyDjnb"
      },
      "outputs": [],
      "source": [
        "import pandas as pd\n",
        "import matplotlib.pyplot as plt\n",
        "import numpy as np\n",
        "import seaborn as sns"
      ]
    },
    {
      "cell_type": "code",
      "source": [
        "import tensorflow as tf\n",
        "from tensorflow import keras\n",
        "from tensorflow.keras import layers"
      ],
      "metadata": {
        "id": "F5Mp1A4NDppY"
      },
      "execution_count": null,
      "outputs": []
    },
    {
      "cell_type": "code",
      "source": [
        "from keras.utils import get_file\n",
        "import os\n",
        "\n",
        "data_url = 'https://storage.googleapis.com/kaggle-competitions-data/kaggle-v2/3364/31151/bundle/archive.zip?GoogleAccessId=web-data@kaggle-161607.iam.gserviceaccount.com&Expires=1681387883&Signature=b%2Fa6hZN1sEaEs4Jhi9Fo1j8HvGjCcXvfw0nuioE7YmaGdCPDQKm4ldyLYh7zg7RtKrHVSABxHa2DJ0qHXbFVpEXszHuExNbkUnelCl7mbEh12g4AH9jMemvZMV61II%2FnxO28t6Y%2B4fK1RprqACBwo4I1SSCeooQ8Qg2qEgNS4OvbYlYnz%2BSJduBXx0UWO8lVL%2BPNJaBRjdSWOD9CQATrf6aelJqlit6Ll1oNGA6ccyMMdXHuw2sc6t8VRR0UySwtpnfVymJmpWi40HDkmoZ4pD86njmmSYcrfquE4pNJFN0M2TywokF2cZw1wxQ64eVWLm1YjlSdn5H2AA2RrNOlAA%3D%3D&response-content-disposition=attachment%3B+filename%3Dchallenges-in-representation-learning-facial-expression-recognition-challenge.zip'\n",
        "\n",
        "zip_file = get_file(fname = 'challenges-in-representation-learning-facial-expression-recognition-challenge.zip', origin = data_url, extract = True)\n",
        "\n",
        "base_dir, extension = os.path.splitext(zip_file)\n",
        "\n",
        "train = pd.read_csv('/root/.keras/datasets/train.csv')\n",
        "\n",
        "from sklearn.utils import resample\n",
        "\n",
        "train_df = train[train['emotion'] == 1]\n",
        "train_df = train_df\n",
        "\n",
        "df_repeated = pd.concat([train_df]*10, ignore_index=True)\n",
        "\n",
        "train = pd.concat([train, df_repeated], ignore_index=True, sort=False)\n",
        "\n",
        "train['pixels'] = [np.fromstring(x, dtype = int, sep = ' ').reshape(-1, 48, 48, 1) for x in train['pixels']]\n",
        "pixels = np.concatenate(train['pixels'])\n",
        "labels = train.emotion.values\n",
        "\n",
        "from sklearn.model_selection import train_test_split\n",
        "\n",
        "X_train, X_test, y_train, y_test = train_test_split(pixels, labels, test_size=0.2, random_state = 101)\n",
        "\n",
        "X_train_new = np.repeat(X_train, repeats = 3, axis = 3)\n",
        "X_test_new = np.repeat(X_test, repeats = 3, axis = 3)\n",
        "\n",
        "from tensorflow.keras.utils import to_categorical\n",
        "\n",
        "y_train = to_categorical(y_train)\n",
        "y_test = to_categorical(y_test)\n",
        "\n",
        "from keras.preprocessing.image import ImageDataGenerator\n",
        "\n",
        "train_datagen = ImageDataGenerator(shear_range = 0.2, \n",
        "                                   width_shift_range = 0.2,\n",
        "                                   height_shift_range = 0.2,\n",
        "                                   zoom_range = 0.2, \n",
        "                                   horizontal_flip = True, \n",
        "                                   rescale = 1/255)\n",
        "test_datagen = ImageDataGenerator(rescale = 1/255)\n",
        "\n",
        "train_iter = train_datagen.flow(X_train_new, y_train)\n",
        "\n",
        "test_iter = test_datagen.flow(X_test_new, y_test)\n",
        "\n",
        "train_iter.reset()\n",
        "\n",
        "batchX, batchy = train_iter.next()\n",
        "\n",
        "Xmin = batchX.min()\n",
        "Xmax = batchX.max()\n",
        "\n",
        "ymin = batchy.min()\n",
        "ymax = batchy.max()"
      ],
      "metadata": {
        "id": "4sQONNc3D0xu",
        "colab": {
          "base_uri": "https://localhost:8080/"
        },
        "outputId": "018cee89-d8a3-4f9f-832c-2ee40295d506"
      },
      "execution_count": null,
      "outputs": [
        {
          "output_type": "stream",
          "name": "stdout",
          "text": [
            "Downloading data from https://storage.googleapis.com/kaggle-competitions-data/kaggle-v2/3364/31151/bundle/archive.zip?GoogleAccessId=web-data@kaggle-161607.iam.gserviceaccount.com&Expires=1681387883&Signature=b%2Fa6hZN1sEaEs4Jhi9Fo1j8HvGjCcXvfw0nuioE7YmaGdCPDQKm4ldyLYh7zg7RtKrHVSABxHa2DJ0qHXbFVpEXszHuExNbkUnelCl7mbEh12g4AH9jMemvZMV61II%2FnxO28t6Y%2B4fK1RprqACBwo4I1SSCeooQ8Qg2qEgNS4OvbYlYnz%2BSJduBXx0UWO8lVL%2BPNJaBRjdSWOD9CQATrf6aelJqlit6Ll1oNGA6ccyMMdXHuw2sc6t8VRR0UySwtpnfVymJmpWi40HDkmoZ4pD86njmmSYcrfquE4pNJFN0M2TywokF2cZw1wxQ64eVWLm1YjlSdn5H2AA2RrNOlAA%3D%3D&response-content-disposition=attachment%3B+filename%3Dchallenges-in-representation-learning-facial-expression-recognition-challenge.zip\n",
            "299063632/299063632 [==============================] - 13s 0us/step\n"
          ]
        }
      ]
    },
    {
      "cell_type": "code",
      "source": [
        "img_width, img_height = 48, 48\n",
        "input_shape = (img_width, img_height, 1)\n",
        "\n",
        "num_class = 7\n",
        "batch_size = 32\n",
        "epochs = 100\n",
        "\n",
        "train_num = 28709\n",
        "test_num = 7178\n",
        "\n",
        "train_steps = train_num // batch_size\n",
        "test_steps = test_num // batch_size"
      ],
      "metadata": {
        "id": "cwf5TcCHLF-4"
      },
      "execution_count": null,
      "outputs": []
    },
    {
      "cell_type": "code",
      "source": [
        "base_model = tf.keras.applications.VGG16(\n",
        "    input_shape = (48, 48, 3), \n",
        "    include_top = False, \n",
        "    weights = 'imagenet')\n",
        "\n",
        "base_model.trainable = False"
      ],
      "metadata": {
        "id": "fCcKL4BMEQfH",
        "colab": {
          "base_uri": "https://localhost:8080/"
        },
        "outputId": "a38b5e95-79fa-4b5a-fbc0-5a97996cf0a1"
      },
      "execution_count": null,
      "outputs": [
        {
          "output_type": "stream",
          "name": "stdout",
          "text": [
            "Downloading data from https://storage.googleapis.com/tensorflow/keras-applications/vgg16/vgg16_weights_tf_dim_ordering_tf_kernels_notop.h5\n",
            "58889256/58889256 [==============================] - 4s 0us/step\n"
          ]
        }
      ]
    },
    {
      "cell_type": "code",
      "source": [
        "base_model.summary()"
      ],
      "metadata": {
        "colab": {
          "base_uri": "https://localhost:8080/"
        },
        "id": "nQNfnsHOETTl",
        "outputId": "ba8161fa-f3e5-40b0-e177-b9085b04929a"
      },
      "execution_count": null,
      "outputs": [
        {
          "output_type": "stream",
          "name": "stdout",
          "text": [
            "Model: \"vgg16\"\n",
            "_________________________________________________________________\n",
            " Layer (type)                Output Shape              Param #   \n",
            "=================================================================\n",
            " input_1 (InputLayer)        [(None, 48, 48, 3)]       0         \n",
            "                                                                 \n",
            " block1_conv1 (Conv2D)       (None, 48, 48, 64)        1792      \n",
            "                                                                 \n",
            " block1_conv2 (Conv2D)       (None, 48, 48, 64)        36928     \n",
            "                                                                 \n",
            " block1_pool (MaxPooling2D)  (None, 24, 24, 64)        0         \n",
            "                                                                 \n",
            " block2_conv1 (Conv2D)       (None, 24, 24, 128)       73856     \n",
            "                                                                 \n",
            " block2_conv2 (Conv2D)       (None, 24, 24, 128)       147584    \n",
            "                                                                 \n",
            " block2_pool (MaxPooling2D)  (None, 12, 12, 128)       0         \n",
            "                                                                 \n",
            " block3_conv1 (Conv2D)       (None, 12, 12, 256)       295168    \n",
            "                                                                 \n",
            " block3_conv2 (Conv2D)       (None, 12, 12, 256)       590080    \n",
            "                                                                 \n",
            " block3_conv3 (Conv2D)       (None, 12, 12, 256)       590080    \n",
            "                                                                 \n",
            " block3_pool (MaxPooling2D)  (None, 6, 6, 256)         0         \n",
            "                                                                 \n",
            " block4_conv1 (Conv2D)       (None, 6, 6, 512)         1180160   \n",
            "                                                                 \n",
            " block4_conv2 (Conv2D)       (None, 6, 6, 512)         2359808   \n",
            "                                                                 \n",
            " block4_conv3 (Conv2D)       (None, 6, 6, 512)         2359808   \n",
            "                                                                 \n",
            " block4_pool (MaxPooling2D)  (None, 3, 3, 512)         0         \n",
            "                                                                 \n",
            " block5_conv1 (Conv2D)       (None, 3, 3, 512)         2359808   \n",
            "                                                                 \n",
            " block5_conv2 (Conv2D)       (None, 3, 3, 512)         2359808   \n",
            "                                                                 \n",
            " block5_conv3 (Conv2D)       (None, 3, 3, 512)         2359808   \n",
            "                                                                 \n",
            " block5_pool (MaxPooling2D)  (None, 1, 1, 512)         0         \n",
            "                                                                 \n",
            "=================================================================\n",
            "Total params: 14,714,688\n",
            "Trainable params: 0\n",
            "Non-trainable params: 14,714,688\n",
            "_________________________________________________________________\n"
          ]
        }
      ]
    },
    {
      "cell_type": "code",
      "source": [
        "model2 = keras.Sequential(name = 'Final_Project_2')\n",
        "model2.add(base_model)\n",
        "model2.add(layers.Flatten())\n",
        "model2.add(layers.Dense(512, activation='relu'))\n",
        "model2.add(layers.Dropout(0.5))\n",
        "model2.add(layers.Dense(256, activation='relu'))\n",
        "model2.add(layers.Dropout(0.25))\n",
        "model2.add(layers.Dense(7, activation='softmax'))\n",
        "\n",
        "model2.summary()"
      ],
      "metadata": {
        "colab": {
          "base_uri": "https://localhost:8080/"
        },
        "id": "Oe0O7CMMEVkh",
        "outputId": "4d8471c6-75b9-4a61-9048-a7b4cd305c3b"
      },
      "execution_count": null,
      "outputs": [
        {
          "output_type": "stream",
          "name": "stdout",
          "text": [
            "Model: \"Final_Project_2\"\n",
            "_________________________________________________________________\n",
            " Layer (type)                Output Shape              Param #   \n",
            "=================================================================\n",
            " vgg16 (Functional)          (None, 1, 1, 512)         14714688  \n",
            "                                                                 \n",
            " flatten (Flatten)           (None, 512)               0         \n",
            "                                                                 \n",
            " dense (Dense)               (None, 512)               262656    \n",
            "                                                                 \n",
            " dropout (Dropout)           (None, 512)               0         \n",
            "                                                                 \n",
            " dense_1 (Dense)             (None, 256)               131328    \n",
            "                                                                 \n",
            " dropout_1 (Dropout)         (None, 256)               0         \n",
            "                                                                 \n",
            " dense_2 (Dense)             (None, 7)                 1799      \n",
            "                                                                 \n",
            "=================================================================\n",
            "Total params: 15,110,471\n",
            "Trainable params: 395,783\n",
            "Non-trainable params: 14,714,688\n",
            "_________________________________________________________________\n"
          ]
        }
      ]
    },
    {
      "cell_type": "code",
      "source": [
        "from keras.optimizers import Adam\n",
        "\n",
        "opt = tf.keras.optimizers.Adam()\n",
        "\n",
        "model2.compile(optimizer = opt, loss = 'categorical_crossentropy', metrics = ['accuracy'])"
      ],
      "metadata": {
        "id": "yopk3HRLEWPF"
      },
      "execution_count": null,
      "outputs": []
    },
    {
      "cell_type": "code",
      "source": [
        "y_train.shape"
      ],
      "metadata": {
        "colab": {
          "base_uri": "https://localhost:8080/"
        },
        "id": "mL5umdzNEqKh",
        "outputId": "ce4049fb-ba51-4f15-a539-1c908eb6e2a5"
      },
      "execution_count": null,
      "outputs": [
        {
          "output_type": "execute_result",
          "data": {
            "text/plain": [
              "(26455, 7)"
            ]
          },
          "metadata": {},
          "execution_count": 9
        }
      ]
    },
    {
      "cell_type": "code",
      "source": [
        "history2 = model2.fit(X_train_new, y_train,\n",
        "           epochs = 100,\n",
        "           verbose=1,\n",
        "           shuffle = True,\n",
        "           validation_data = (X_test_new, y_test))"
      ],
      "metadata": {
        "colab": {
          "base_uri": "https://localhost:8080/"
        },
        "id": "F8UOxpVpEqoa",
        "outputId": "3c028659-aac0-45b7-a7e3-3672e90ca2eb"
      },
      "execution_count": null,
      "outputs": [
        {
          "output_type": "stream",
          "name": "stdout",
          "text": [
            "Epoch 1/100\n",
            "827/827 [==============================] - 25s 19ms/step - loss: 2.7232 - accuracy: 0.2322 - val_loss: 1.8302 - val_accuracy: 0.2731\n",
            "Epoch 2/100\n",
            "827/827 [==============================] - 14s 17ms/step - loss: 1.7700 - accuracy: 0.3129 - val_loss: 1.6506 - val_accuracy: 0.3863\n",
            "Epoch 3/100\n",
            "827/827 [==============================] - 14s 17ms/step - loss: 1.6667 - accuracy: 0.3569 - val_loss: 1.5555 - val_accuracy: 0.4170\n",
            "Epoch 4/100\n",
            "827/827 [==============================] - 14s 17ms/step - loss: 1.5945 - accuracy: 0.3890 - val_loss: 1.5080 - val_accuracy: 0.4366\n",
            "Epoch 5/100\n",
            "827/827 [==============================] - 14s 17ms/step - loss: 1.5400 - accuracy: 0.4076 - val_loss: 1.4344 - val_accuracy: 0.4444\n",
            "Epoch 6/100\n",
            "827/827 [==============================] - 14s 17ms/step - loss: 1.4967 - accuracy: 0.4227 - val_loss: 1.4190 - val_accuracy: 0.4664\n",
            "Epoch 7/100\n",
            "827/827 [==============================] - 14s 17ms/step - loss: 1.4604 - accuracy: 0.4355 - val_loss: 1.3783 - val_accuracy: 0.4661\n",
            "Epoch 8/100\n",
            "827/827 [==============================] - 14s 17ms/step - loss: 1.4276 - accuracy: 0.4486 - val_loss: 1.3727 - val_accuracy: 0.4790\n",
            "Epoch 9/100\n",
            "827/827 [==============================] - 14s 17ms/step - loss: 1.4065 - accuracy: 0.4592 - val_loss: 1.3478 - val_accuracy: 0.4784\n",
            "Epoch 10/100\n",
            "827/827 [==============================] - 14s 17ms/step - loss: 1.3833 - accuracy: 0.4644 - val_loss: 1.3515 - val_accuracy: 0.4741\n",
            "Epoch 11/100\n",
            "827/827 [==============================] - 17s 21ms/step - loss: 1.3614 - accuracy: 0.4766 - val_loss: 1.3264 - val_accuracy: 0.4935\n",
            "Epoch 12/100\n",
            "827/827 [==============================] - 15s 18ms/step - loss: 1.3420 - accuracy: 0.4809 - val_loss: 1.3169 - val_accuracy: 0.4915\n",
            "Epoch 13/100\n",
            "827/827 [==============================] - 17s 21ms/step - loss: 1.3254 - accuracy: 0.4867 - val_loss: 1.3084 - val_accuracy: 0.4936\n",
            "Epoch 14/100\n",
            "827/827 [==============================] - 17s 21ms/step - loss: 1.3091 - accuracy: 0.4925 - val_loss: 1.3022 - val_accuracy: 0.4950\n",
            "Epoch 15/100\n",
            "827/827 [==============================] - 15s 18ms/step - loss: 1.2985 - accuracy: 0.4990 - val_loss: 1.3054 - val_accuracy: 0.4871\n",
            "Epoch 16/100\n",
            "827/827 [==============================] - 14s 17ms/step - loss: 1.2914 - accuracy: 0.5054 - val_loss: 1.3159 - val_accuracy: 0.4933\n",
            "Epoch 17/100\n",
            "827/827 [==============================] - 14s 17ms/step - loss: 1.2621 - accuracy: 0.5083 - val_loss: 1.3126 - val_accuracy: 0.4908\n",
            "Epoch 18/100\n",
            "827/827 [==============================] - 14s 17ms/step - loss: 1.2511 - accuracy: 0.5148 - val_loss: 1.2946 - val_accuracy: 0.5015\n",
            "Epoch 19/100\n",
            "827/827 [==============================] - 17s 20ms/step - loss: 1.2482 - accuracy: 0.5198 - val_loss: 1.2935 - val_accuracy: 0.5020\n",
            "Epoch 20/100\n",
            "827/827 [==============================] - 14s 17ms/step - loss: 1.2305 - accuracy: 0.5224 - val_loss: 1.3039 - val_accuracy: 0.5029\n",
            "Epoch 21/100\n",
            "827/827 [==============================] - 14s 17ms/step - loss: 1.2205 - accuracy: 0.5283 - val_loss: 1.2855 - val_accuracy: 0.5060\n",
            "Epoch 22/100\n",
            "827/827 [==============================] - 14s 18ms/step - loss: 1.2129 - accuracy: 0.5364 - val_loss: 1.2910 - val_accuracy: 0.5068\n",
            "Epoch 23/100\n",
            "827/827 [==============================] - 14s 17ms/step - loss: 1.1993 - accuracy: 0.5406 - val_loss: 1.2946 - val_accuracy: 0.5106\n",
            "Epoch 24/100\n",
            "827/827 [==============================] - 17s 20ms/step - loss: 1.1780 - accuracy: 0.5505 - val_loss: 1.3101 - val_accuracy: 0.5098\n",
            "Epoch 25/100\n",
            "827/827 [==============================] - 15s 18ms/step - loss: 1.1710 - accuracy: 0.5548 - val_loss: 1.2971 - val_accuracy: 0.5077\n",
            "Epoch 26/100\n",
            "827/827 [==============================] - 14s 17ms/step - loss: 1.1593 - accuracy: 0.5609 - val_loss: 1.2960 - val_accuracy: 0.5121\n",
            "Epoch 27/100\n",
            "827/827 [==============================] - 17s 20ms/step - loss: 1.1447 - accuracy: 0.5634 - val_loss: 1.3099 - val_accuracy: 0.5071\n",
            "Epoch 28/100\n",
            "827/827 [==============================] - 17s 21ms/step - loss: 1.1324 - accuracy: 0.5681 - val_loss: 1.3096 - val_accuracy: 0.5074\n",
            "Epoch 29/100\n",
            "827/827 [==============================] - 15s 18ms/step - loss: 1.1242 - accuracy: 0.5718 - val_loss: 1.3135 - val_accuracy: 0.5159\n",
            "Epoch 30/100\n",
            "827/827 [==============================] - 14s 17ms/step - loss: 1.1126 - accuracy: 0.5806 - val_loss: 1.3146 - val_accuracy: 0.5213\n",
            "Epoch 31/100\n",
            "827/827 [==============================] - 14s 17ms/step - loss: 1.1129 - accuracy: 0.5783 - val_loss: 1.3100 - val_accuracy: 0.5192\n",
            "Epoch 32/100\n",
            "827/827 [==============================] - 17s 20ms/step - loss: 1.0929 - accuracy: 0.5860 - val_loss: 1.3269 - val_accuracy: 0.5109\n",
            "Epoch 33/100\n",
            "827/827 [==============================] - 17s 21ms/step - loss: 1.0883 - accuracy: 0.5874 - val_loss: 1.3359 - val_accuracy: 0.5113\n",
            "Epoch 34/100\n",
            "827/827 [==============================] - 14s 18ms/step - loss: 1.0592 - accuracy: 0.6001 - val_loss: 1.3245 - val_accuracy: 0.5187\n",
            "Epoch 35/100\n",
            "827/827 [==============================] - 17s 21ms/step - loss: 1.0732 - accuracy: 0.5958 - val_loss: 1.3548 - val_accuracy: 0.5121\n",
            "Epoch 36/100\n",
            "827/827 [==============================] - 17s 21ms/step - loss: 1.0517 - accuracy: 0.5997 - val_loss: 1.3711 - val_accuracy: 0.5201\n",
            "Epoch 37/100\n",
            "827/827 [==============================] - 15s 18ms/step - loss: 1.0429 - accuracy: 0.6060 - val_loss: 1.3710 - val_accuracy: 0.5178\n",
            "Epoch 38/100\n",
            "827/827 [==============================] - 17s 21ms/step - loss: 1.0463 - accuracy: 0.6058 - val_loss: 1.3620 - val_accuracy: 0.5207\n",
            "Epoch 39/100\n",
            "827/827 [==============================] - 15s 18ms/step - loss: 1.0179 - accuracy: 0.6137 - val_loss: 1.3578 - val_accuracy: 0.5165\n",
            "Epoch 40/100\n",
            "827/827 [==============================] - 14s 17ms/step - loss: 1.0180 - accuracy: 0.6186 - val_loss: 1.3847 - val_accuracy: 0.5184\n",
            "Epoch 41/100\n",
            "827/827 [==============================] - 14s 17ms/step - loss: 1.0103 - accuracy: 0.6249 - val_loss: 1.3611 - val_accuracy: 0.5234\n",
            "Epoch 42/100\n",
            "827/827 [==============================] - 14s 17ms/step - loss: 1.0027 - accuracy: 0.6238 - val_loss: 1.4096 - val_accuracy: 0.5233\n",
            "Epoch 43/100\n",
            "827/827 [==============================] - 17s 20ms/step - loss: 0.9983 - accuracy: 0.6272 - val_loss: 1.4101 - val_accuracy: 0.5192\n",
            "Epoch 44/100\n",
            "827/827 [==============================] - 14s 17ms/step - loss: 0.9884 - accuracy: 0.6330 - val_loss: 1.3783 - val_accuracy: 0.5147\n",
            "Epoch 45/100\n",
            "827/827 [==============================] - 17s 20ms/step - loss: 0.9927 - accuracy: 0.6318 - val_loss: 1.4105 - val_accuracy: 0.5204\n",
            "Epoch 46/100\n",
            "827/827 [==============================] - 17s 20ms/step - loss: 0.9718 - accuracy: 0.6364 - val_loss: 1.3995 - val_accuracy: 0.5263\n",
            "Epoch 47/100\n",
            "827/827 [==============================] - 17s 21ms/step - loss: 0.9645 - accuracy: 0.6426 - val_loss: 1.3983 - val_accuracy: 0.5271\n",
            "Epoch 48/100\n",
            "827/827 [==============================] - 17s 21ms/step - loss: 0.9554 - accuracy: 0.6464 - val_loss: 1.4040 - val_accuracy: 0.5157\n",
            "Epoch 49/100\n",
            "827/827 [==============================] - 17s 20ms/step - loss: 0.9596 - accuracy: 0.6426 - val_loss: 1.4645 - val_accuracy: 0.5275\n",
            "Epoch 50/100\n",
            "827/827 [==============================] - 17s 20ms/step - loss: 0.9459 - accuracy: 0.6500 - val_loss: 1.4330 - val_accuracy: 0.5237\n",
            "Epoch 51/100\n",
            "827/827 [==============================] - 14s 17ms/step - loss: 0.9370 - accuracy: 0.6536 - val_loss: 1.4530 - val_accuracy: 0.5203\n",
            "Epoch 52/100\n",
            "827/827 [==============================] - 17s 20ms/step - loss: 0.9321 - accuracy: 0.6550 - val_loss: 1.4258 - val_accuracy: 0.5240\n",
            "Epoch 53/100\n",
            "827/827 [==============================] - 14s 17ms/step - loss: 0.9363 - accuracy: 0.6524 - val_loss: 1.4499 - val_accuracy: 0.5296\n",
            "Epoch 54/100\n",
            "827/827 [==============================] - 14s 17ms/step - loss: 0.9237 - accuracy: 0.6556 - val_loss: 1.4837 - val_accuracy: 0.5274\n",
            "Epoch 55/100\n",
            "827/827 [==============================] - 14s 17ms/step - loss: 0.9119 - accuracy: 0.6622 - val_loss: 1.5146 - val_accuracy: 0.5263\n",
            "Epoch 56/100\n",
            "827/827 [==============================] - 17s 20ms/step - loss: 0.9008 - accuracy: 0.6663 - val_loss: 1.5057 - val_accuracy: 0.5216\n",
            "Epoch 57/100\n",
            "827/827 [==============================] - 17s 20ms/step - loss: 0.9025 - accuracy: 0.6665 - val_loss: 1.4759 - val_accuracy: 0.5239\n",
            "Epoch 58/100\n",
            "827/827 [==============================] - 14s 17ms/step - loss: 0.8957 - accuracy: 0.6673 - val_loss: 1.4762 - val_accuracy: 0.5252\n",
            "Epoch 59/100\n",
            "827/827 [==============================] - 14s 17ms/step - loss: 0.8908 - accuracy: 0.6717 - val_loss: 1.5037 - val_accuracy: 0.5271\n",
            "Epoch 60/100\n",
            "827/827 [==============================] - 14s 17ms/step - loss: 0.8836 - accuracy: 0.6778 - val_loss: 1.4786 - val_accuracy: 0.5316\n",
            "Epoch 61/100\n",
            "827/827 [==============================] - 17s 20ms/step - loss: 0.8927 - accuracy: 0.6721 - val_loss: 1.5276 - val_accuracy: 0.5195\n",
            "Epoch 62/100\n",
            "827/827 [==============================] - 14s 17ms/step - loss: 0.8717 - accuracy: 0.6826 - val_loss: 1.5045 - val_accuracy: 0.5286\n",
            "Epoch 63/100\n",
            "827/827 [==============================] - 14s 17ms/step - loss: 0.8717 - accuracy: 0.6781 - val_loss: 1.5162 - val_accuracy: 0.5233\n",
            "Epoch 64/100\n",
            "827/827 [==============================] - 14s 17ms/step - loss: 0.8652 - accuracy: 0.6806 - val_loss: 1.4798 - val_accuracy: 0.5284\n",
            "Epoch 65/100\n",
            "827/827 [==============================] - 14s 17ms/step - loss: 0.8731 - accuracy: 0.6811 - val_loss: 1.4943 - val_accuracy: 0.5269\n",
            "Epoch 66/100\n",
            "827/827 [==============================] - 14s 17ms/step - loss: 0.8642 - accuracy: 0.6822 - val_loss: 1.4804 - val_accuracy: 0.5237\n",
            "Epoch 67/100\n",
            "827/827 [==============================] - 14s 17ms/step - loss: 0.8446 - accuracy: 0.6878 - val_loss: 1.5193 - val_accuracy: 0.5242\n",
            "Epoch 68/100\n",
            "827/827 [==============================] - 14s 17ms/step - loss: 0.8518 - accuracy: 0.6903 - val_loss: 1.5539 - val_accuracy: 0.5254\n",
            "Epoch 69/100\n",
            "827/827 [==============================] - 14s 17ms/step - loss: 0.8400 - accuracy: 0.6939 - val_loss: 1.5128 - val_accuracy: 0.5215\n",
            "Epoch 70/100\n",
            "827/827 [==============================] - 14s 17ms/step - loss: 0.8352 - accuracy: 0.6948 - val_loss: 1.5728 - val_accuracy: 0.5194\n",
            "Epoch 71/100\n",
            "827/827 [==============================] - 14s 17ms/step - loss: 0.8277 - accuracy: 0.6972 - val_loss: 1.5297 - val_accuracy: 0.5271\n",
            "Epoch 72/100\n",
            "827/827 [==============================] - 14s 17ms/step - loss: 0.8360 - accuracy: 0.6962 - val_loss: 1.5472 - val_accuracy: 0.5257\n",
            "Epoch 73/100\n",
            "827/827 [==============================] - 17s 20ms/step - loss: 0.8182 - accuracy: 0.7033 - val_loss: 1.5818 - val_accuracy: 0.5322\n",
            "Epoch 74/100\n",
            "827/827 [==============================] - 17s 21ms/step - loss: 0.8238 - accuracy: 0.7007 - val_loss: 1.5906 - val_accuracy: 0.5227\n",
            "Epoch 75/100\n",
            "827/827 [==============================] - 14s 17ms/step - loss: 0.8157 - accuracy: 0.7032 - val_loss: 1.6499 - val_accuracy: 0.5314\n",
            "Epoch 76/100\n",
            "827/827 [==============================] - 14s 17ms/step - loss: 0.8060 - accuracy: 0.7049 - val_loss: 1.5906 - val_accuracy: 0.5339\n",
            "Epoch 77/100\n",
            "827/827 [==============================] - 17s 20ms/step - loss: 0.8066 - accuracy: 0.7062 - val_loss: 1.5910 - val_accuracy: 0.5283\n",
            "Epoch 78/100\n",
            "827/827 [==============================] - 17s 20ms/step - loss: 0.8162 - accuracy: 0.7047 - val_loss: 1.6341 - val_accuracy: 0.5277\n",
            "Epoch 79/100\n",
            "827/827 [==============================] - 14s 17ms/step - loss: 0.7968 - accuracy: 0.7089 - val_loss: 1.6594 - val_accuracy: 0.5361\n",
            "Epoch 80/100\n",
            "827/827 [==============================] - 17s 20ms/step - loss: 0.7823 - accuracy: 0.7139 - val_loss: 1.5883 - val_accuracy: 0.5301\n",
            "Epoch 81/100\n",
            "827/827 [==============================] - 17s 20ms/step - loss: 0.7866 - accuracy: 0.7159 - val_loss: 1.6693 - val_accuracy: 0.5314\n",
            "Epoch 82/100\n",
            "827/827 [==============================] - 14s 17ms/step - loss: 0.8028 - accuracy: 0.7100 - val_loss: 1.6533 - val_accuracy: 0.5331\n",
            "Epoch 83/100\n",
            "827/827 [==============================] - 14s 17ms/step - loss: 0.7866 - accuracy: 0.7144 - val_loss: 1.6941 - val_accuracy: 0.5234\n",
            "Epoch 84/100\n",
            "827/827 [==============================] - 17s 21ms/step - loss: 0.7810 - accuracy: 0.7165 - val_loss: 1.6551 - val_accuracy: 0.5281\n",
            "Epoch 85/100\n",
            "827/827 [==============================] - 14s 17ms/step - loss: 0.7860 - accuracy: 0.7163 - val_loss: 1.6418 - val_accuracy: 0.5321\n",
            "Epoch 86/100\n",
            "827/827 [==============================] - 17s 20ms/step - loss: 0.7790 - accuracy: 0.7191 - val_loss: 1.6422 - val_accuracy: 0.5305\n",
            "Epoch 87/100\n",
            "827/827 [==============================] - 14s 17ms/step - loss: 0.7733 - accuracy: 0.7208 - val_loss: 1.7069 - val_accuracy: 0.5330\n",
            "Epoch 88/100\n",
            "827/827 [==============================] - 17s 21ms/step - loss: 0.7697 - accuracy: 0.7229 - val_loss: 1.7534 - val_accuracy: 0.5278\n",
            "Epoch 89/100\n",
            "827/827 [==============================] - 17s 21ms/step - loss: 0.7677 - accuracy: 0.7209 - val_loss: 1.6632 - val_accuracy: 0.5310\n",
            "Epoch 90/100\n",
            "827/827 [==============================] - 14s 18ms/step - loss: 0.7629 - accuracy: 0.7241 - val_loss: 1.6864 - val_accuracy: 0.5308\n",
            "Epoch 91/100\n",
            "827/827 [==============================] - 17s 20ms/step - loss: 0.7611 - accuracy: 0.7245 - val_loss: 1.6754 - val_accuracy: 0.5262\n",
            "Epoch 92/100\n",
            "827/827 [==============================] - 14s 17ms/step - loss: 0.7600 - accuracy: 0.7292 - val_loss: 1.7429 - val_accuracy: 0.5316\n",
            "Epoch 93/100\n",
            "827/827 [==============================] - 17s 21ms/step - loss: 0.7656 - accuracy: 0.7249 - val_loss: 1.7094 - val_accuracy: 0.5275\n",
            "Epoch 94/100\n",
            "827/827 [==============================] - 17s 21ms/step - loss: 0.7445 - accuracy: 0.7302 - val_loss: 1.7796 - val_accuracy: 0.5299\n",
            "Epoch 95/100\n",
            "827/827 [==============================] - 17s 21ms/step - loss: 0.7441 - accuracy: 0.7319 - val_loss: 1.7761 - val_accuracy: 0.5243\n",
            "Epoch 96/100\n",
            "827/827 [==============================] - 17s 20ms/step - loss: 0.7437 - accuracy: 0.7322 - val_loss: 1.7578 - val_accuracy: 0.5225\n",
            "Epoch 97/100\n",
            "827/827 [==============================] - 14s 17ms/step - loss: 0.7340 - accuracy: 0.7356 - val_loss: 1.7832 - val_accuracy: 0.5256\n",
            "Epoch 98/100\n",
            "827/827 [==============================] - 14s 17ms/step - loss: 0.7542 - accuracy: 0.7320 - val_loss: 1.7428 - val_accuracy: 0.5280\n",
            "Epoch 99/100\n",
            "827/827 [==============================] - 14s 17ms/step - loss: 0.7377 - accuracy: 0.7356 - val_loss: 1.7258 - val_accuracy: 0.5274\n",
            "Epoch 100/100\n",
            "827/827 [==============================] - 14s 17ms/step - loss: 0.7373 - accuracy: 0.7367 - val_loss: 1.7027 - val_accuracy: 0.5239\n"
          ]
        }
      ]
    },
    {
      "cell_type": "code",
      "source": [
        "score = model2.evaluate(test_iter)\n",
        "\n",
        "print('Test loss:', score[0])\n",
        "print('Test accuracy:', score[1])\n",
        "\n",
        "from sklearn.metrics import confusion_matrix\n",
        "\n",
        "y_pred = model2.predict(X_train_new).argmax(axis = 1)\n",
        "y_train = np.argmax(y_train, axis = 1)\n",
        "\n",
        "confusion_matrix(y_train, y_pred)"
      ],
      "metadata": {
        "colab": {
          "base_uri": "https://localhost:8080/"
        },
        "id": "i_6Wd6TwE1cF",
        "outputId": "e14d54e5-443f-4be4-8eaf-7304d3bcbfad"
      },
      "execution_count": null,
      "outputs": [
        {
          "output_type": "stream",
          "name": "stdout",
          "text": [
            "207/207 [==============================] - 3s 13ms/step - loss: 2.3387 - accuracy: 0.1538\n",
            "Test loss: 2.3387386798858643\n",
            "Test accuracy: 0.1537647396326065\n",
            "827/827 [==============================] - 10s 11ms/step\n"
          ]
        },
        {
          "output_type": "execute_result",
          "data": {
            "text/plain": [
              "array([[2299,    0,  139,  294,  263,   10,  217],\n",
              "       [   0, 3836,    0,    0,    0,    0,    0],\n",
              "       [  70,    1, 2558,  138,  284,   32,  208],\n",
              "       [  37,    0,   36, 5364,   75,    2,  244],\n",
              "       [  77,    0,   75,  203, 3111,    0,  382],\n",
              "       [   6,    5,  202,  113,    9, 2071,  135],\n",
              "       [  37,    1,   32,  311,  121,    6, 3451]])"
            ]
          },
          "metadata": {},
          "execution_count": 11
        }
      ]
    },
    {
      "cell_type": "code",
      "source": [
        "from sklearn.metrics import classification_report\n",
        "\n",
        "print(classification_report(y_train, y_pred))"
      ],
      "metadata": {
        "colab": {
          "base_uri": "https://localhost:8080/"
        },
        "id": "X4FwK4zAk4ni",
        "outputId": "5d97efbf-a4d9-4a1b-827f-35749ce32724"
      },
      "execution_count": null,
      "outputs": [
        {
          "output_type": "stream",
          "name": "stdout",
          "text": [
            "              precision    recall  f1-score   support\n",
            "\n",
            "           0       0.91      0.71      0.80      3222\n",
            "           1       1.00      1.00      1.00      3836\n",
            "           2       0.84      0.78      0.81      3291\n",
            "           3       0.84      0.93      0.88      5758\n",
            "           4       0.81      0.81      0.81      3848\n",
            "           5       0.98      0.82      0.89      2541\n",
            "           6       0.74      0.87      0.80      3959\n",
            "\n",
            "    accuracy                           0.86     26455\n",
            "   macro avg       0.87      0.85      0.86     26455\n",
            "weighted avg       0.86      0.86      0.86     26455\n",
            "\n"
          ]
        }
      ]
    },
    {
      "cell_type": "code",
      "source": [
        "plt.figure(figsize=(6, 6))\n",
        "plt.title('Model accuracy')\n",
        "\n",
        "plt.plot(history2.history['accuracy'])\n",
        "plt.plot(history2.history['val_accuracy'])\n",
        "\n",
        "plt.ylabel('Accuracy')\n",
        "plt.xlabel('Epoch')\n",
        "plt.legend(['Train', 'Validation'], loc='upper left')\n",
        "plt.show()"
      ],
      "metadata": {
        "colab": {
          "base_uri": "https://localhost:8080/",
          "height": 564
        },
        "id": "BRI1mXDYiWqa",
        "outputId": "aebb51c0-589b-4962-bb47-50cc4da77129"
      },
      "execution_count": null,
      "outputs": [
        {
          "output_type": "display_data",
          "data": {
            "text/plain": [
              "<Figure size 600x600 with 1 Axes>"
            ],
            "image/png": "[encoded data removed]"
          },
          "metadata": {}
        }
      ]
    },
    {
      "cell_type": "code",
      "source": [
        "tf.keras.models.save_model(model2, 'vgg_model.hdf5')"
      ],
      "metadata": {
        "id": "0x0U4lDHnCUy"
      },
      "execution_count": null,
      "outputs": []
    },
    {
      "cell_type": "code",
      "source": [],
      "metadata": {
        "id": "Ip2Fwr1QrbYk"
      },
      "execution_count": null,
      "outputs": []
    }
  ]
}