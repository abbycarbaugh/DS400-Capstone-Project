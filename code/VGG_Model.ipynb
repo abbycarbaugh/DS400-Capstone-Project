{
  "nbformat": 4,
  "nbformat_minor": 0,
  "metadata": {
    "colab": {
      "provenance": []
    },
    "kernelspec": {
      "name": "python3",
      "display_name": "Python 3"
    },
    "language_info": {
      "name": "python"
    },
    "accelerator": "GPU",
    "gpuClass": "standard"
  },
  "cells": [
    {
      "cell_type": "code",
      "execution_count": null,
      "metadata": {
        "id": "B1WXuPzyDjnb"
      },
      "outputs": [],
      "source": [
        "import pandas as pd\n",
        "import matplotlib.pyplot as plt\n",
        "import numpy as np\n",
        "import seaborn as sns"
      ]
    },
    {
      "cell_type": "code",
      "source": [
        "import tensorflow as tf\n",
        "from tensorflow import keras\n",
        "from tensorflow.keras import layers"
      ],
      "metadata": {
        "id": "F5Mp1A4NDppY"
      },
      "execution_count": null,
      "outputs": []
    },
    {
      "cell_type": "code",
      "source": [
        "from keras.utils import get_file\n",
        "import os\n",
        "\n",
        "data_url = 'https://storage.googleapis.com/kaggle-competitions-data/kaggle-v2/3364/31151/bundle/archive.zip?GoogleAccessId=web-data@kaggle-161607.iam.gserviceaccount.com&Expires=1680078705&Signature=W4uo0K38pAShcXVllaMJcvCTjL%2BMGznXp3Mvd1SsWk9NfJbxv8%2F49T4%2BgmOkLys3dpsQnCOTJC6FjNrFkqleflwAe3560IRjLqeF08ecWvA4ueKsXSK9INF8As%2FUefs8HQgSwJK2X43Aeidr2UXn8meE%2B%2FoTwV1rsu%2BstXdYZjvSxAMhIqwWaENLXy63wYWYJ6%2B4EvKQstBWbNbx56EvNXYeCXj9WyzOAjrcRSLVuhDMY1KkrOp4v%2BYhboPOkzVNGxTX7Sb%2Bc5tHgxc1ogrkzY%2BWBXu7JqYOga%2FtYtjmmVlcvHyOnOZun4My%2BwJgrxcubVtmMEBBzT0suvYCDIiW5w%3D%3D&response-content-disposition=attachment%3B+filename%3Dchallenges-in-representation-learning-facial-expression-recognition-challenge.zip'\n",
        "\n",
        "zip_file = get_file(fname = 'challenges-in-representation-learning-facial-expression-recognition-challenge.zip', origin = data_url, extract = True)\n",
        "\n",
        "base_dir, extension = os.path.splitext(zip_file)\n",
        "\n",
        "train = pd.read_csv('/root/.keras/datasets/train.csv')\n",
        "\n",
        "train['pixels'] = [np.fromstring(x, dtype = int, sep = ' ').reshape(-1, 48, 48, 1) for x in train['pixels']]\n",
        "pixels = np.concatenate(train['pixels'])\n",
        "labels = train.emotion.values\n",
        "\n",
        "from sklearn.model_selection import train_test_split\n",
        "\n",
        "X_train, X_test, y_train, y_test = train_test_split(pixels, labels, test_size=0.2, random_state = 101)\n",
        "\n",
        "X_train_new = np.repeat(X_train, repeats = 3, axis = 3)\n",
        "X_test_new = np.repeat(X_test, repeats = 3, axis = 3)\n",
        "\n",
        "from tensorflow.keras.utils import to_categorical\n",
        "\n",
        "y_train = to_categorical(y_train)\n",
        "y_test = to_categorical(y_test)\n",
        "\n",
        "from keras.preprocessing.image import ImageDataGenerator\n",
        "\n",
        "train_datagen = ImageDataGenerator(shear_range = 0.2, \n",
        "                                   width_shift_range = 0.2,\n",
        "                                   height_shift_range = 0.2,\n",
        "                                   zoom_range = 0.2, \n",
        "                                   horizontal_flip = True, \n",
        "                                   rescale = 1/255)\n",
        "test_datagen = ImageDataGenerator(rescale = 1/255)\n",
        "\n",
        "train_iter = train_datagen.flow(X_train_new, y_train)\n",
        "\n",
        "test_iter = test_datagen.flow(X_test_new, y_test)\n",
        "\n",
        "train_iter.reset()\n",
        "\n",
        "batchX, batchy = train_iter.next()\n",
        "\n",
        "Xmin = batchX.min()\n",
        "Xmax = batchX.max()\n",
        "\n",
        "ymin = batchy.min()\n",
        "ymax = batchy.max()"
      ],
      "metadata": {
        "id": "4sQONNc3D0xu"
      },
      "execution_count": null,
      "outputs": []
    },
    {
      "cell_type": "code",
      "source": [
        "img_width, img_height = 48, 48\n",
        "input_shape = (img_width, img_height, 1)\n",
        "\n",
        "num_class = 7\n",
        "batch_size = 32\n",
        "epochs = 100\n",
        "\n",
        "train_num = 28709\n",
        "test_num = 7178\n",
        "\n",
        "train_steps = train_num // batch_size\n",
        "test_steps = test_num // batch_size"
      ],
      "metadata": {
        "id": "cwf5TcCHLF-4"
      },
      "execution_count": null,
      "outputs": []
    },
    {
      "cell_type": "code",
      "source": [
        "base_model = tf.keras.applications.VGG16(\n",
        "    input_shape = (48, 48, 3), \n",
        "    include_top = False, \n",
        "    weights = 'imagenet')\n",
        "\n",
        "base_model.trainable = False"
      ],
      "metadata": {
        "id": "fCcKL4BMEQfH"
      },
      "execution_count": null,
      "outputs": []
    },
    {
      "cell_type": "code",
      "source": [
        "base_model.summary()"
      ],
      "metadata": {
        "colab": {
          "base_uri": "https://localhost:8080/"
        },
        "id": "nQNfnsHOETTl",
        "outputId": "a7d871c9-2bc7-414e-85d7-1d02e1378f02"
      },
      "execution_count": null,
      "outputs": [
        {
          "output_type": "stream",
          "name": "stdout",
          "text": [
            "Model: \"vgg16\"\n",
            "_________________________________________________________________\n",
            " Layer (type)                Output Shape              Param #   \n",
            "=================================================================\n",
            " input_1 (InputLayer)        [(None, 48, 48, 3)]       0         \n",
            "                                                                 \n",
            " block1_conv1 (Conv2D)       (None, 48, 48, 64)        1792      \n",
            "                                                                 \n",
            " block1_conv2 (Conv2D)       (None, 48, 48, 64)        36928     \n",
            "                                                                 \n",
            " block1_pool (MaxPooling2D)  (None, 24, 24, 64)        0         \n",
            "                                                                 \n",
            " block2_conv1 (Conv2D)       (None, 24, 24, 128)       73856     \n",
            "                                                                 \n",
            " block2_conv2 (Conv2D)       (None, 24, 24, 128)       147584    \n",
            "                                                                 \n",
            " block2_pool (MaxPooling2D)  (None, 12, 12, 128)       0         \n",
            "                                                                 \n",
            " block3_conv1 (Conv2D)       (None, 12, 12, 256)       295168    \n",
            "                                                                 \n",
            " block3_conv2 (Conv2D)       (None, 12, 12, 256)       590080    \n",
            "                                                                 \n",
            " block3_conv3 (Conv2D)       (None, 12, 12, 256)       590080    \n",
            "                                                                 \n",
            " block3_pool (MaxPooling2D)  (None, 6, 6, 256)         0         \n",
            "                                                                 \n",
            " block4_conv1 (Conv2D)       (None, 6, 6, 512)         1180160   \n",
            "                                                                 \n",
            " block4_conv2 (Conv2D)       (None, 6, 6, 512)         2359808   \n",
            "                                                                 \n",
            " block4_conv3 (Conv2D)       (None, 6, 6, 512)         2359808   \n",
            "                                                                 \n",
            " block4_pool (MaxPooling2D)  (None, 3, 3, 512)         0         \n",
            "                                                                 \n",
            " block5_conv1 (Conv2D)       (None, 3, 3, 512)         2359808   \n",
            "                                                                 \n",
            " block5_conv2 (Conv2D)       (None, 3, 3, 512)         2359808   \n",
            "                                                                 \n",
            " block5_conv3 (Conv2D)       (None, 3, 3, 512)         2359808   \n",
            "                                                                 \n",
            " block5_pool (MaxPooling2D)  (None, 1, 1, 512)         0         \n",
            "                                                                 \n",
            "=================================================================\n",
            "Total params: 14,714,688\n",
            "Trainable params: 0\n",
            "Non-trainable params: 14,714,688\n",
            "_________________________________________________________________\n"
          ]
        }
      ]
    },
    {
      "cell_type": "code",
      "source": [
        "model2 = keras.Sequential(name = 'Final_Project_2')\n",
        "model2.add(base_model)\n",
        "model2.add(layers.Flatten())\n",
        "model2.add(layers.Dense(512, activation='relu'))\n",
        "model2.add(layers.Dropout(0.5))\n",
        "model2.add(layers.Dense(256, activation='relu'))\n",
        "model2.add(layers.Dropout(0.25))\n",
        "model2.add(layers.Dense(7, activation='softmax'))\n",
        "\n",
        "model2.summary()"
      ],
      "metadata": {
        "colab": {
          "base_uri": "https://localhost:8080/"
        },
        "id": "Oe0O7CMMEVkh",
        "outputId": "4bc0ba70-e727-46eb-fb10-2484210c79e9"
      },
      "execution_count": null,
      "outputs": [
        {
          "output_type": "stream",
          "name": "stdout",
          "text": [
            "Model: \"Final_Project_2\"\n",
            "_________________________________________________________________\n",
            " Layer (type)                Output Shape              Param #   \n",
            "=================================================================\n",
            " vgg16 (Functional)          (None, 1, 1, 512)         14714688  \n",
            "                                                                 \n",
            " flatten (Flatten)           (None, 512)               0         \n",
            "                                                                 \n",
            " dense (Dense)               (None, 512)               262656    \n",
            "                                                                 \n",
            " dropout (Dropout)           (None, 512)               0         \n",
            "                                                                 \n",
            " dense_1 (Dense)             (None, 256)               131328    \n",
            "                                                                 \n",
            " dropout_1 (Dropout)         (None, 256)               0         \n",
            "                                                                 \n",
            " dense_2 (Dense)             (None, 7)                 1799      \n",
            "                                                                 \n",
            "=================================================================\n",
            "Total params: 15,110,471\n",
            "Trainable params: 395,783\n",
            "Non-trainable params: 14,714,688\n",
            "_________________________________________________________________\n"
          ]
        }
      ]
    },
    {
      "cell_type": "code",
      "source": [
        "from keras.optimizers import Adam\n",
        "\n",
        "opt = tf.keras.optimizers.Adam()\n",
        "\n",
        "model2.compile(optimizer = opt, loss = 'categorical_crossentropy', metrics = ['accuracy'])"
      ],
      "metadata": {
        "id": "yopk3HRLEWPF"
      },
      "execution_count": null,
      "outputs": []
    },
    {
      "cell_type": "code",
      "source": [
        "y_train.shape"
      ],
      "metadata": {
        "colab": {
          "base_uri": "https://localhost:8080/"
        },
        "id": "mL5umdzNEqKh",
        "outputId": "f22bc1d7-6718-484d-9c89-e10d49d981df"
      },
      "execution_count": null,
      "outputs": [
        {
          "output_type": "execute_result",
          "data": {
            "text/plain": [
              "(22967, 7)"
            ]
          },
          "metadata": {},
          "execution_count": 9
        }
      ]
    },
    {
      "cell_type": "code",
      "source": [
        "history2 = model2.fit(X_train_new, y_train,\n",
        "           epochs = 100,\n",
        "           verbose=1,\n",
        "           shuffle = True,\n",
        "           validation_data = (X_test_new, y_test))"
      ],
      "metadata": {
        "colab": {
          "base_uri": "https://localhost:8080/"
        },
        "id": "F8UOxpVpEqoa",
        "outputId": "369f7831-0cc1-4506-d3dc-83a6fb07323d"
      },
      "execution_count": null,
      "outputs": [
        {
          "output_type": "stream",
          "name": "stdout",
          "text": [
            "Epoch 1/100\n",
            "718/718 [==============================] - 22s 21ms/step - loss: 2.8735 - accuracy: 0.2612 - val_loss: 1.6973 - val_accuracy: 0.2985\n",
            "Epoch 2/100\n",
            "718/718 [==============================] - 12s 17ms/step - loss: 1.7247 - accuracy: 0.3039 - val_loss: 1.6335 - val_accuracy: 0.3650\n",
            "Epoch 3/100\n",
            "718/718 [==============================] - 13s 18ms/step - loss: 1.6746 - accuracy: 0.3269 - val_loss: 1.6084 - val_accuracy: 0.3668\n",
            "Epoch 4/100\n",
            "718/718 [==============================] - 12s 17ms/step - loss: 1.6523 - accuracy: 0.3450 - val_loss: 1.5945 - val_accuracy: 0.3823\n",
            "Epoch 5/100\n",
            "718/718 [==============================] - 12s 17ms/step - loss: 1.6283 - accuracy: 0.3574 - val_loss: 1.5761 - val_accuracy: 0.3925\n",
            "Epoch 6/100\n",
            "718/718 [==============================] - 13s 18ms/step - loss: 1.6110 - accuracy: 0.3648 - val_loss: 1.5727 - val_accuracy: 0.3884\n",
            "Epoch 7/100\n",
            "718/718 [==============================] - 13s 18ms/step - loss: 1.5932 - accuracy: 0.3733 - val_loss: 1.5619 - val_accuracy: 0.3912\n",
            "Epoch 8/100\n",
            "718/718 [==============================] - 12s 17ms/step - loss: 1.5796 - accuracy: 0.3800 - val_loss: 1.5568 - val_accuracy: 0.4032\n",
            "Epoch 9/100\n",
            "718/718 [==============================] - 13s 18ms/step - loss: 1.5672 - accuracy: 0.3875 - val_loss: 1.5352 - val_accuracy: 0.4117\n",
            "Epoch 10/100\n",
            "718/718 [==============================] - 13s 18ms/step - loss: 1.5563 - accuracy: 0.3900 - val_loss: 1.5452 - val_accuracy: 0.4009\n",
            "Epoch 11/100\n",
            "718/718 [==============================] - 12s 17ms/step - loss: 1.5470 - accuracy: 0.3976 - val_loss: 1.5392 - val_accuracy: 0.4178\n",
            "Epoch 12/100\n",
            "718/718 [==============================] - 12s 17ms/step - loss: 1.5212 - accuracy: 0.4041 - val_loss: 1.5378 - val_accuracy: 0.4082\n",
            "Epoch 13/100\n",
            "718/718 [==============================] - 12s 17ms/step - loss: 1.5060 - accuracy: 0.4126 - val_loss: 1.5337 - val_accuracy: 0.4049\n",
            "Epoch 14/100\n",
            "718/718 [==============================] - 13s 19ms/step - loss: 1.4871 - accuracy: 0.4211 - val_loss: 1.5286 - val_accuracy: 0.4067\n",
            "Epoch 15/100\n",
            "718/718 [==============================] - 15s 21ms/step - loss: 1.4784 - accuracy: 0.4276 - val_loss: 1.5267 - val_accuracy: 0.4188\n",
            "Epoch 16/100\n",
            "718/718 [==============================] - 13s 18ms/step - loss: 1.4558 - accuracy: 0.4351 - val_loss: 1.5236 - val_accuracy: 0.4180\n",
            "Epoch 17/100\n",
            "718/718 [==============================] - 12s 17ms/step - loss: 1.4465 - accuracy: 0.4398 - val_loss: 1.5264 - val_accuracy: 0.4115\n",
            "Epoch 18/100\n",
            "718/718 [==============================] - 12s 17ms/step - loss: 1.4264 - accuracy: 0.4496 - val_loss: 1.5377 - val_accuracy: 0.4103\n",
            "Epoch 19/100\n",
            "718/718 [==============================] - 12s 17ms/step - loss: 1.4151 - accuracy: 0.4518 - val_loss: 1.5319 - val_accuracy: 0.4253\n",
            "Epoch 20/100\n",
            "718/718 [==============================] - 12s 17ms/step - loss: 1.3872 - accuracy: 0.4631 - val_loss: 1.5228 - val_accuracy: 0.4258\n",
            "Epoch 21/100\n",
            "718/718 [==============================] - 13s 18ms/step - loss: 1.3836 - accuracy: 0.4707 - val_loss: 1.5452 - val_accuracy: 0.4255\n",
            "Epoch 22/100\n",
            "718/718 [==============================] - 12s 17ms/step - loss: 1.3655 - accuracy: 0.4747 - val_loss: 1.5230 - val_accuracy: 0.4333\n",
            "Epoch 23/100\n",
            "718/718 [==============================] - 12s 17ms/step - loss: 1.3475 - accuracy: 0.4830 - val_loss: 1.5425 - val_accuracy: 0.4195\n",
            "Epoch 24/100\n",
            "718/718 [==============================] - 13s 18ms/step - loss: 1.3307 - accuracy: 0.4917 - val_loss: 1.5497 - val_accuracy: 0.4204\n",
            "Epoch 25/100\n",
            "718/718 [==============================] - 12s 17ms/step - loss: 1.3151 - accuracy: 0.4968 - val_loss: 1.5617 - val_accuracy: 0.4326\n",
            "Epoch 26/100\n",
            "718/718 [==============================] - 12s 17ms/step - loss: 1.3077 - accuracy: 0.5005 - val_loss: 1.5446 - val_accuracy: 0.4314\n",
            "Epoch 27/100\n",
            "718/718 [==============================] - 12s 17ms/step - loss: 1.2913 - accuracy: 0.5085 - val_loss: 1.5809 - val_accuracy: 0.4242\n",
            "Epoch 28/100\n",
            "718/718 [==============================] - 12s 17ms/step - loss: 1.2756 - accuracy: 0.5150 - val_loss: 1.5586 - val_accuracy: 0.4317\n",
            "Epoch 29/100\n",
            "718/718 [==============================] - 13s 18ms/step - loss: 1.2648 - accuracy: 0.5246 - val_loss: 1.5881 - val_accuracy: 0.4293\n",
            "Epoch 30/100\n",
            "718/718 [==============================] - 13s 18ms/step - loss: 1.2487 - accuracy: 0.5266 - val_loss: 1.6106 - val_accuracy: 0.4359\n",
            "Epoch 31/100\n",
            "718/718 [==============================] - 13s 18ms/step - loss: 1.2467 - accuracy: 0.5307 - val_loss: 1.6038 - val_accuracy: 0.4328\n",
            "Epoch 32/100\n",
            "718/718 [==============================] - 12s 17ms/step - loss: 1.2301 - accuracy: 0.5366 - val_loss: 1.6019 - val_accuracy: 0.4230\n",
            "Epoch 33/100\n",
            "718/718 [==============================] - 14s 19ms/step - loss: 1.2175 - accuracy: 0.5438 - val_loss: 1.6271 - val_accuracy: 0.4239\n",
            "Epoch 34/100\n",
            "718/718 [==============================] - 12s 17ms/step - loss: 1.2024 - accuracy: 0.5429 - val_loss: 1.6621 - val_accuracy: 0.4244\n",
            "Epoch 35/100\n",
            "718/718 [==============================] - 12s 17ms/step - loss: 1.1872 - accuracy: 0.5528 - val_loss: 1.6109 - val_accuracy: 0.4289\n",
            "Epoch 36/100\n",
            "718/718 [==============================] - 12s 17ms/step - loss: 1.1852 - accuracy: 0.5612 - val_loss: 1.6471 - val_accuracy: 0.4302\n",
            "Epoch 37/100\n",
            "718/718 [==============================] - 12s 17ms/step - loss: 1.1757 - accuracy: 0.5607 - val_loss: 1.6534 - val_accuracy: 0.4197\n",
            "Epoch 38/100\n",
            "718/718 [==============================] - 12s 17ms/step - loss: 1.1599 - accuracy: 0.5683 - val_loss: 1.6304 - val_accuracy: 0.4383\n",
            "Epoch 39/100\n",
            "718/718 [==============================] - 12s 17ms/step - loss: 1.1474 - accuracy: 0.5710 - val_loss: 1.6790 - val_accuracy: 0.4330\n",
            "Epoch 40/100\n",
            "718/718 [==============================] - 12s 17ms/step - loss: 1.1491 - accuracy: 0.5677 - val_loss: 1.6715 - val_accuracy: 0.4331\n",
            "Epoch 41/100\n",
            "718/718 [==============================] - 12s 17ms/step - loss: 1.1415 - accuracy: 0.5771 - val_loss: 1.6661 - val_accuracy: 0.4284\n",
            "Epoch 42/100\n",
            "718/718 [==============================] - 12s 17ms/step - loss: 1.1219 - accuracy: 0.5800 - val_loss: 1.7039 - val_accuracy: 0.4399\n",
            "Epoch 43/100\n",
            "718/718 [==============================] - 13s 18ms/step - loss: 1.1144 - accuracy: 0.5856 - val_loss: 1.7327 - val_accuracy: 0.4347\n",
            "Epoch 44/100\n",
            "718/718 [==============================] - 13s 18ms/step - loss: 1.1136 - accuracy: 0.5839 - val_loss: 1.7152 - val_accuracy: 0.4298\n",
            "Epoch 45/100\n",
            "718/718 [==============================] - 13s 17ms/step - loss: 1.1041 - accuracy: 0.5866 - val_loss: 1.7565 - val_accuracy: 0.4382\n",
            "Epoch 46/100\n",
            "718/718 [==============================] - 13s 18ms/step - loss: 1.0855 - accuracy: 0.5997 - val_loss: 1.7346 - val_accuracy: 0.4328\n",
            "Epoch 47/100\n",
            "718/718 [==============================] - 12s 17ms/step - loss: 1.0798 - accuracy: 0.5993 - val_loss: 1.7615 - val_accuracy: 0.4343\n",
            "Epoch 48/100\n",
            "718/718 [==============================] - 13s 18ms/step - loss: 1.0723 - accuracy: 0.6015 - val_loss: 1.7578 - val_accuracy: 0.4383\n",
            "Epoch 49/100\n",
            "718/718 [==============================] - 12s 17ms/step - loss: 1.0604 - accuracy: 0.6062 - val_loss: 1.8044 - val_accuracy: 0.4267\n",
            "Epoch 50/100\n",
            "718/718 [==============================] - 13s 18ms/step - loss: 1.0685 - accuracy: 0.6051 - val_loss: 1.7388 - val_accuracy: 0.4324\n",
            "Epoch 51/100\n",
            "718/718 [==============================] - 12s 17ms/step - loss: 1.0423 - accuracy: 0.6164 - val_loss: 1.8322 - val_accuracy: 0.4368\n",
            "Epoch 52/100\n",
            "718/718 [==============================] - 13s 18ms/step - loss: 1.0340 - accuracy: 0.6185 - val_loss: 1.8020 - val_accuracy: 0.4383\n",
            "Epoch 53/100\n",
            "718/718 [==============================] - 12s 17ms/step - loss: 1.0414 - accuracy: 0.6172 - val_loss: 1.8248 - val_accuracy: 0.4403\n",
            "Epoch 54/100\n",
            "718/718 [==============================] - 12s 17ms/step - loss: 1.0174 - accuracy: 0.6256 - val_loss: 1.7731 - val_accuracy: 0.4396\n",
            "Epoch 55/100\n",
            "718/718 [==============================] - 12s 17ms/step - loss: 1.0193 - accuracy: 0.6233 - val_loss: 1.7994 - val_accuracy: 0.4406\n",
            "Epoch 56/100\n",
            "718/718 [==============================] - 13s 18ms/step - loss: 1.0235 - accuracy: 0.6297 - val_loss: 1.7639 - val_accuracy: 0.4302\n",
            "Epoch 57/100\n",
            "718/718 [==============================] - 13s 18ms/step - loss: 0.9962 - accuracy: 0.6344 - val_loss: 1.8192 - val_accuracy: 0.4317\n",
            "Epoch 58/100\n",
            "718/718 [==============================] - 12s 17ms/step - loss: 1.0100 - accuracy: 0.6295 - val_loss: 1.8341 - val_accuracy: 0.4356\n",
            "Epoch 59/100\n",
            "718/718 [==============================] - 12s 17ms/step - loss: 0.9927 - accuracy: 0.6357 - val_loss: 1.8342 - val_accuracy: 0.4314\n",
            "Epoch 60/100\n",
            "718/718 [==============================] - 13s 18ms/step - loss: 0.9884 - accuracy: 0.6402 - val_loss: 1.8219 - val_accuracy: 0.4408\n",
            "Epoch 61/100\n",
            "718/718 [==============================] - 13s 18ms/step - loss: 0.9880 - accuracy: 0.6388 - val_loss: 1.8644 - val_accuracy: 0.4380\n",
            "Epoch 62/100\n",
            "718/718 [==============================] - 12s 17ms/step - loss: 0.9710 - accuracy: 0.6485 - val_loss: 1.8843 - val_accuracy: 0.4361\n",
            "Epoch 63/100\n",
            "718/718 [==============================] - 13s 18ms/step - loss: 0.9726 - accuracy: 0.6448 - val_loss: 1.9339 - val_accuracy: 0.4500\n",
            "Epoch 64/100\n",
            "718/718 [==============================] - 13s 18ms/step - loss: 0.9733 - accuracy: 0.6409 - val_loss: 1.9285 - val_accuracy: 0.4417\n",
            "Epoch 65/100\n",
            "718/718 [==============================] - 12s 17ms/step - loss: 0.9558 - accuracy: 0.6538 - val_loss: 1.9799 - val_accuracy: 0.4417\n",
            "Epoch 66/100\n",
            "718/718 [==============================] - 12s 17ms/step - loss: 0.9541 - accuracy: 0.6536 - val_loss: 1.9614 - val_accuracy: 0.4371\n",
            "Epoch 67/100\n",
            "718/718 [==============================] - 13s 18ms/step - loss: 0.9344 - accuracy: 0.6602 - val_loss: 1.9774 - val_accuracy: 0.4422\n",
            "Epoch 68/100\n",
            "718/718 [==============================] - 13s 18ms/step - loss: 0.9452 - accuracy: 0.6582 - val_loss: 1.9761 - val_accuracy: 0.4420\n",
            "Epoch 69/100\n",
            "718/718 [==============================] - 13s 18ms/step - loss: 0.9266 - accuracy: 0.6658 - val_loss: 1.9727 - val_accuracy: 0.4397\n",
            "Epoch 70/100\n",
            "718/718 [==============================] - 13s 18ms/step - loss: 0.9200 - accuracy: 0.6638 - val_loss: 2.0027 - val_accuracy: 0.4361\n",
            "Epoch 71/100\n",
            "718/718 [==============================] - 12s 17ms/step - loss: 0.9234 - accuracy: 0.6649 - val_loss: 2.0177 - val_accuracy: 0.4354\n",
            "Epoch 72/100\n",
            "718/718 [==============================] - 12s 17ms/step - loss: 0.9141 - accuracy: 0.6741 - val_loss: 2.0150 - val_accuracy: 0.4394\n",
            "Epoch 73/100\n",
            "718/718 [==============================] - 13s 18ms/step - loss: 0.9164 - accuracy: 0.6628 - val_loss: 1.9218 - val_accuracy: 0.4345\n",
            "Epoch 74/100\n",
            "718/718 [==============================] - 13s 18ms/step - loss: 0.9081 - accuracy: 0.6695 - val_loss: 1.9907 - val_accuracy: 0.4359\n",
            "Epoch 75/100\n",
            "718/718 [==============================] - 13s 18ms/step - loss: 0.9027 - accuracy: 0.6727 - val_loss: 2.0025 - val_accuracy: 0.4345\n",
            "Epoch 76/100\n",
            "718/718 [==============================] - 12s 17ms/step - loss: 0.9024 - accuracy: 0.6741 - val_loss: 2.0172 - val_accuracy: 0.4415\n",
            "Epoch 77/100\n",
            "718/718 [==============================] - 13s 17ms/step - loss: 0.8994 - accuracy: 0.6765 - val_loss: 2.0522 - val_accuracy: 0.4429\n",
            "Epoch 78/100\n",
            "718/718 [==============================] - 13s 18ms/step - loss: 0.8929 - accuracy: 0.6795 - val_loss: 2.0850 - val_accuracy: 0.4410\n",
            "Epoch 79/100\n",
            "718/718 [==============================] - 12s 17ms/step - loss: 0.8881 - accuracy: 0.6810 - val_loss: 2.0417 - val_accuracy: 0.4361\n",
            "Epoch 80/100\n",
            "718/718 [==============================] - 13s 18ms/step - loss: 0.8845 - accuracy: 0.6782 - val_loss: 2.0677 - val_accuracy: 0.4457\n",
            "Epoch 81/100\n",
            "718/718 [==============================] - 13s 18ms/step - loss: 0.8747 - accuracy: 0.6854 - val_loss: 2.1507 - val_accuracy: 0.4436\n",
            "Epoch 82/100\n",
            "718/718 [==============================] - 13s 18ms/step - loss: 0.8765 - accuracy: 0.6840 - val_loss: 2.0573 - val_accuracy: 0.4336\n",
            "Epoch 83/100\n",
            "718/718 [==============================] - 12s 17ms/step - loss: 0.8621 - accuracy: 0.6871 - val_loss: 2.1204 - val_accuracy: 0.4497\n",
            "Epoch 84/100\n",
            "718/718 [==============================] - 13s 18ms/step - loss: 0.8655 - accuracy: 0.6881 - val_loss: 2.0907 - val_accuracy: 0.4437\n",
            "Epoch 85/100\n",
            "718/718 [==============================] - 12s 17ms/step - loss: 0.8594 - accuracy: 0.6923 - val_loss: 2.0803 - val_accuracy: 0.4356\n",
            "Epoch 86/100\n",
            "718/718 [==============================] - 13s 18ms/step - loss: 0.8558 - accuracy: 0.6947 - val_loss: 2.0484 - val_accuracy: 0.4397\n",
            "Epoch 87/100\n",
            "718/718 [==============================] - 12s 17ms/step - loss: 0.8632 - accuracy: 0.6931 - val_loss: 2.0646 - val_accuracy: 0.4437\n",
            "Epoch 88/100\n",
            "718/718 [==============================] - 12s 17ms/step - loss: 0.8502 - accuracy: 0.6945 - val_loss: 2.1219 - val_accuracy: 0.4455\n",
            "Epoch 89/100\n",
            "718/718 [==============================] - 13s 18ms/step - loss: 0.8499 - accuracy: 0.6934 - val_loss: 2.1106 - val_accuracy: 0.4385\n",
            "Epoch 90/100\n",
            "718/718 [==============================] - 13s 18ms/step - loss: 0.8424 - accuracy: 0.6983 - val_loss: 2.1504 - val_accuracy: 0.4418\n",
            "Epoch 91/100\n",
            "718/718 [==============================] - 12s 17ms/step - loss: 0.8490 - accuracy: 0.6958 - val_loss: 2.2055 - val_accuracy: 0.4464\n",
            "Epoch 92/100\n",
            "718/718 [==============================] - 12s 17ms/step - loss: 0.8454 - accuracy: 0.6989 - val_loss: 2.1961 - val_accuracy: 0.4396\n",
            "Epoch 93/100\n",
            "718/718 [==============================] - 13s 18ms/step - loss: 0.8246 - accuracy: 0.7067 - val_loss: 2.1491 - val_accuracy: 0.4457\n",
            "Epoch 94/100\n",
            "718/718 [==============================] - 13s 18ms/step - loss: 0.8208 - accuracy: 0.7048 - val_loss: 2.1856 - val_accuracy: 0.4471\n",
            "Epoch 95/100\n",
            "718/718 [==============================] - 12s 17ms/step - loss: 0.8231 - accuracy: 0.7061 - val_loss: 2.1625 - val_accuracy: 0.4410\n",
            "Epoch 96/100\n",
            "718/718 [==============================] - 12s 17ms/step - loss: 0.8228 - accuracy: 0.7081 - val_loss: 2.2285 - val_accuracy: 0.4441\n",
            "Epoch 97/100\n",
            "718/718 [==============================] - 12s 17ms/step - loss: 0.8123 - accuracy: 0.7087 - val_loss: 2.1729 - val_accuracy: 0.4434\n",
            "Epoch 98/100\n",
            "718/718 [==============================] - 12s 17ms/step - loss: 0.8245 - accuracy: 0.7073 - val_loss: 2.1805 - val_accuracy: 0.4464\n",
            "Epoch 99/100\n",
            "718/718 [==============================] - 13s 18ms/step - loss: 0.8063 - accuracy: 0.7085 - val_loss: 2.1796 - val_accuracy: 0.4469\n",
            "Epoch 100/100\n",
            "718/718 [==============================] - 12s 17ms/step - loss: 0.7997 - accuracy: 0.7158 - val_loss: 2.2884 - val_accuracy: 0.4462\n"
          ]
        }
      ]
    },
    {
      "cell_type": "code",
      "source": [
        "score = model2.evaluate(test_iter)\n",
        "\n",
        "print('Test loss:', score[0])\n",
        "print('Test accuracy:', score[1])\n",
        "\n",
        "from sklearn.metrics import confusion_matrix\n",
        "\n",
        "y_pred = model2.predict(X_train_new).argmax(axis = 1)\n",
        "y_train = np.argmax(y_train, axis = 1)\n",
        "\n",
        "confusion_matrix(y_train, y_pred)"
      ],
      "metadata": {
        "colab": {
          "base_uri": "https://localhost:8080/"
        },
        "id": "i_6Wd6TwE1cF",
        "outputId": "822ef7eb-9894-42df-c240-b713259bb750"
      },
      "execution_count": null,
      "outputs": [
        {
          "output_type": "stream",
          "name": "stdout",
          "text": [
            "180/180 [==============================] - 3s 14ms/step - loss: 2.0267 - accuracy: 0.1851\n",
            "Test loss: 2.0267257690429688\n",
            "Test accuracy: 0.1851271390914917\n",
            "718/718 [==============================] - 8s 11ms/step\n"
          ]
        },
        {
          "output_type": "execute_result",
          "data": {
            "text/plain": [
              "array([[2687,    1,   81,  243,   85,    5,  125],\n",
              "       [  58,  216,   44,   30,    3,    1,   12],\n",
              "       [ 146,    3, 2578,  124,  109,  131,  144],\n",
              "       [  68,    0,   15, 5512,   31,   19,  114],\n",
              "       [ 193,    0,  104,  219, 3065,    0,  258],\n",
              "       [   9,    0,   88,   74,    1, 2334,   66],\n",
              "       [  61,    0,   18,  388,   76,   12, 3416]])"
            ]
          },
          "metadata": {},
          "execution_count": 12
        }
      ]
    },
    {
      "cell_type": "code",
      "source": [
        "plt.figure(figsize=(6, 6))\n",
        "plt.title('Model accuracy')\n",
        "\n",
        "plt.plot(history2.history['accuracy'])\n",
        "plt.plot(history2.history['val_accuracy'])\n",
        "\n",
        "plt.ylabel('Accuracy')\n",
        "plt.xlabel('Epoch')\n",
        "plt.legend(['Train', 'Validation'], loc='upper left')\n",
        "plt.show()"
      ],
      "metadata": {
        "colab": {
          "base_uri": "https://localhost:8080/",
          "height": 404
        },
        "id": "BRI1mXDYiWqa",
        "outputId": "8ad192a5-912a-46f1-c29c-9b8ebae81b76"
      },
      "execution_count": null,
      "outputs": [
        {
          "output_type": "display_data",
          "data": {
            "text/plain": [
              "<Figure size 432x432 with 1 Axes>"
            ],
            "image/png": "[encoded data removed]"
          },
          "metadata": {
            "needs_background": "light"
          }
        }
      ]
    },
    {
      "cell_type": "code",
      "source": [
        "tf.keras.models.save_model(model2, 'my_model.hdf5')"
      ],
      "metadata": {
        "id": "0x0U4lDHnCUy"
      },
      "execution_count": null,
      "outputs": []
    },
    {
      "cell_type": "code",
      "source": [],
      "metadata": {
        "id": "Ip2Fwr1QrbYk"
      },
      "execution_count": null,
      "outputs": []
    }
  ]
}
