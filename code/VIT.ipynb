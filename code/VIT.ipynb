{
  "nbformat": 4,
  "nbformat_minor": 0,
  "metadata": {
    "colab": {
      "provenance": []
    },
    "kernelspec": {
      "name": "python3",
      "display_name": "Python 3"
    },
    "language_info": {
      "name": "python"
    },
    "accelerator": "GPU",
    "gpuClass": "standard"
  },
  "cells": [
    {
      "cell_type": "code",
      "source": [
        "!pip install -U tensorflow-addons"
      ],
      "metadata": {
        "colab": {
          "base_uri": "https://localhost:8080/"
        },
        "id": "esHG8aYeUfTY",
        "outputId": "0d586d29-8da9-43f4-837c-11e5fd754291"
      },
      "execution_count": null,
      "outputs": [
        {
          "output_type": "stream",
          "name": "stdout",
          "text": [
            "Looking in indexes: https://pypi.org/simple, https://us-python.pkg.dev/colab-wheels/public/simple/\n",
            "Collecting tensorflow-addons\n",
            "  Downloading tensorflow_addons-0.20.0-cp39-cp39-manylinux_2_17_x86_64.manylinux2014_x86_64.whl (591 kB)\n",
            "\u001b[2K     \u001b[90m━━━━━━━━━━━━━━━━━━━━━━━━━━━━━━━━━━━━━━\u001b[0m \u001b[32m591.0/591.0 kB\u001b[0m \u001b[31m11.5 MB/s\u001b[0m eta \u001b[36m0:00:00\u001b[0m\n",
            "\u001b[?25hCollecting typeguard<3.0.0,>=2.7\n",
            "  Downloading typeguard-2.13.3-py3-none-any.whl (17 kB)\n",
            "Requirement already satisfied: packaging in /usr/local/lib/python3.9/dist-packages (from tensorflow-addons) (23.0)\n",
            "Installing collected packages: typeguard, tensorflow-addons\n",
            "Successfully installed tensorflow-addons-0.20.0 typeguard-2.13.3\n"
          ]
        }
      ]
    },
    {
      "cell_type": "code",
      "source": [
        "import numpy as np\n",
        "import tensorflow as tf\n",
        "from tensorflow import keras\n",
        "from tensorflow.keras import layers\n",
        "import tensorflow_addons as tfa\n",
        "\n",
        "import pandas as pd"
      ],
      "metadata": {
        "id": "AQbx6W4Ogp9k",
        "colab": {
          "base_uri": "https://localhost:8080/"
        },
        "outputId": "966e7a81-d2f4-486e-8db7-607d7f5c3477"
      },
      "execution_count": null,
      "outputs": [
        {
          "output_type": "stream",
          "name": "stderr",
          "text": [
            "/usr/local/lib/python3.9/dist-packages/tensorflow_addons/utils/tfa_eol_msg.py:23: UserWarning: \n",
            "\n",
            "TensorFlow Addons (TFA) has ended development and introduction of new features.\n",
            "TFA has entered a minimal maintenance and release mode until a planned end of life in May 2024.\n",
            "Please modify downstream libraries to take dependencies from other repositories in our TensorFlow community (e.g. Keras, Keras-CV, and Keras-NLP). \n",
            "\n",
            "For more information see: https://github.com/tensorflow/addons/issues/2807 \n",
            "\n",
            "  warnings.warn(\n"
          ]
        }
      ]
    },
    {
      "cell_type": "code",
      "source": [
        "from keras.utils import get_file\n",
        "import os\n",
        "\n",
        "data_url = 'https://storage.googleapis.com/kaggle-competitions-data/kaggle-v2/3364/31151/bundle/archive.zip?GoogleAccessId=web-data@kaggle-161607.iam.gserviceaccount.com&Expires=1681417684&Signature=gupdeRnGzNnmDCes2S5aQbpZwprQuA5D31jTRApDigvkLmAyda0rldXFMbtroLgimZWq8WmnC2NnVhhVuxcWxpv1c4ZpLTOyekj5ilNFDEzM45OcoV0FKQmFoi1aFwO1ZFKZ2X9RCPOJ%2BF8eZ0Crg1Er5k6R26CBsIbaNEhcDybZ0q6HaLey7ta6wYV2Fxrd19OIbSw7RYcOKnhnhL7VzQ7ghnS7YZVcj68EZnJeg6ehFRktCevT%2FMepsLCv4Os%2FRfDCozVrP4Q%2FJ2Bf2QTgGwgCxlWgBnK5W9yn92gyLIuWfSP1gpO62KxunHsOXBGNQ2GEeOA%2FgZDLnLw9QMVYug%3D%3D&response-content-disposition=attachment%3B+filename%3Dchallenges-in-representation-learning-facial-expression-recognition-challenge.zip'\n",
        "\n",
        "zip_file = get_file(fname = 'challenges-in-representation-learning-facial-expression-recognition-challenge.zip', origin = data_url, extract = True)\n",
        "\n",
        "base_dir, extension = os.path.splitext(zip_file)\n",
        "\n",
        "train = pd.read_csv('/root/.keras/datasets/train.csv')\n",
        "\n",
        "train_df = train[train['emotion'] == 1]\n",
        "train_df = train_df\n",
        "\n",
        "df_repeated = pd.concat([train_df]*10, ignore_index=True)\n",
        "\n",
        "train = pd.concat([train, df_repeated], ignore_index=True, sort=False)\n",
        "\n",
        "train['pixels'] = [np.fromstring(x, dtype = int, sep = ' ').reshape(-1, 48, 48, 1) for x in train['pixels']]\n",
        "pixels = np.concatenate(train['pixels'])\n",
        "labels = train.emotion.values\n",
        "\n",
        "from sklearn.model_selection import train_test_split\n",
        "\n",
        "X_train, X_test, y_train, y_test = train_test_split(pixels, labels, test_size=0.2, random_state = 101)\n",
        "\n",
        "X_train_new = np.repeat(X_train, repeats = 3, axis = 3)\n",
        "X_test_new = np.repeat(X_test, repeats = 3, axis = 3)"
      ],
      "metadata": {
        "id": "L6MyrhW3E5eU",
        "colab": {
          "base_uri": "https://localhost:8080/"
        },
        "outputId": "1e9770e3-5e7e-4515-fca3-88f592252a8c"
      },
      "execution_count": null,
      "outputs": [
        {
          "output_type": "stream",
          "name": "stdout",
          "text": [
            "Downloading data from https://storage.googleapis.com/kaggle-competitions-data/kaggle-v2/3364/31151/bundle/archive.zip?GoogleAccessId=web-data@kaggle-161607.iam.gserviceaccount.com&Expires=1681417684&Signature=gupdeRnGzNnmDCes2S5aQbpZwprQuA5D31jTRApDigvkLmAyda0rldXFMbtroLgimZWq8WmnC2NnVhhVuxcWxpv1c4ZpLTOyekj5ilNFDEzM45OcoV0FKQmFoi1aFwO1ZFKZ2X9RCPOJ%2BF8eZ0Crg1Er5k6R26CBsIbaNEhcDybZ0q6HaLey7ta6wYV2Fxrd19OIbSw7RYcOKnhnhL7VzQ7ghnS7YZVcj68EZnJeg6ehFRktCevT%2FMepsLCv4Os%2FRfDCozVrP4Q%2FJ2Bf2QTgGwgCxlWgBnK5W9yn92gyLIuWfSP1gpO62KxunHsOXBGNQ2GEeOA%2FgZDLnLw9QMVYug%3D%3D&response-content-disposition=attachment%3B+filename%3Dchallenges-in-representation-learning-facial-expression-recognition-challenge.zip\n",
            "299063632/299063632 [==============================] - 4s 0us/step\n"
          ]
        }
      ]
    },
    {
      "cell_type": "code",
      "source": [
        "from tensorflow.keras.utils import to_categorical\n",
        "\n",
        "y_train = to_categorical(y_train)\n",
        "y_test = to_categorical(y_test)\n",
        "\n",
        "X_train_new.shape, X_test_new.shape, y_train.shape, y_test.shape"
      ],
      "metadata": {
        "colab": {
          "base_uri": "https://localhost:8080/"
        },
        "id": "jjbfvsDEZmHA",
        "outputId": "499ca430-5d40-4301-91ba-684a9739a992"
      },
      "execution_count": null,
      "outputs": [
        {
          "output_type": "execute_result",
          "data": {
            "text/plain": [
              "((26455, 48, 48, 3), (6614, 48, 48, 3), (26455, 7), (6614, 7))"
            ]
          },
          "metadata": {},
          "execution_count": 4
        }
      ]
    },
    {
      "cell_type": "code",
      "source": [
        "learning_rate = 0.001\n",
        "weight_decay = 0.0001\n",
        "batch_size = 256\n",
        "num_epochs = 100\n",
        "image_size = 72 \n",
        "patch_size = 6  \n",
        "num_patches = (image_size // patch_size) ** 2\n",
        "projection_dim = 64\n",
        "num_heads = 4\n",
        "transformer_units = [\n",
        "    projection_dim * 2,\n",
        "    projection_dim,\n",
        "]  # Size of the transformer layers\n",
        "transformer_layers = 7\n",
        "mlp_head_units = [2048, 1024]"
      ],
      "metadata": {
        "id": "K-5nsV0EVH-8"
      },
      "execution_count": null,
      "outputs": []
    },
    {
      "cell_type": "code",
      "source": [
        "data_augmentation = keras.Sequential(\n",
        "    [\n",
        "        layers.Normalization(),\n",
        "        layers.Resizing(image_size, image_size),\n",
        "        layers.RandomFlip(\"horizontal\"),\n",
        "        #layers.RandomRotation(factor=0.02),\n",
        "        layers.RandomZoom(\n",
        "            height_factor=0.2, width_factor=0.2\n",
        "        ),\n",
        "    ],\n",
        "    name=\"data_augmentation\",\n",
        ")\n",
        "data_augmentation.layers[0].adapt(X_train_new)"
      ],
      "metadata": {
        "id": "9DyqslHqBnRD"
      },
      "execution_count": null,
      "outputs": []
    },
    {
      "cell_type": "code",
      "source": [
        "def mlp(x, hidden_units, dropout_rate):\n",
        "    for units in hidden_units:\n",
        "        x = layers.Dense(units, activation=tf.nn.gelu)(x)\n",
        "        x = layers.Dropout(dropout_rate)(x)\n",
        "    return x"
      ],
      "metadata": {
        "id": "TMZBZ2weVWqV"
      },
      "execution_count": null,
      "outputs": []
    },
    {
      "cell_type": "code",
      "source": [
        "class Patches(layers.Layer):\n",
        "    def __init__(self, patch_size):\n",
        "        super().__init__()\n",
        "        self.patch_size = patch_size\n",
        "\n",
        "    def call(self, images):\n",
        "        batch_size = tf.shape(images)[0]\n",
        "        patches = tf.image.extract_patches(\n",
        "            images=images,\n",
        "            sizes=[1, self.patch_size, self.patch_size, 1],\n",
        "            strides=[1, self.patch_size, self.patch_size, 1],\n",
        "            rates=[1, 1, 1, 1],\n",
        "            padding=\"VALID\",\n",
        "        )\n",
        "        patch_dims = patches.shape[-1]\n",
        "        patches = tf.reshape(patches, [batch_size, -1, patch_dims])\n",
        "        return patches"
      ],
      "metadata": {
        "id": "3jlnnoWTVZ-l"
      },
      "execution_count": null,
      "outputs": []
    },
    {
      "cell_type": "code",
      "source": [
        "import matplotlib.pyplot as plt\n",
        "\n",
        "plt.figure(figsize=(4, 4))\n",
        "image = X_train[np.random.choice(range(X_train_new.shape[0]))]\n",
        "plt.imshow(image.astype(\"uint8\"))\n",
        "plt.axis(\"off\")\n",
        "\n",
        "resized_image = tf.image.resize(\n",
        "    tf.convert_to_tensor([image]), size=(image_size, image_size)\n",
        ")\n",
        "patches = Patches(patch_size)(resized_image)\n",
        "print(f\"Image size: {image_size} X {image_size}\")\n",
        "print(f\"Patch size: {patch_size} X {patch_size}\")\n",
        "print(f\"Patches per image: {patches.shape[1]}\")\n",
        "print(f\"Elements per patch: {patches.shape[-1]}\")\n",
        "\n",
        "n = int(np.sqrt(patches.shape[1]))\n",
        "plt.figure(figsize=(4, 4))\n",
        "for i, patch in enumerate(patches[0]):\n",
        "    ax = plt.subplot(n, n, i + 1)\n",
        "    patch_img = tf.reshape(patch, (patch_size, patch_size, 1))\n",
        "    plt.imshow(patch_img.numpy().astype(\"uint8\"))\n",
        "    plt.axis(\"off\")"
      ],
      "metadata": {
        "colab": {
          "base_uri": "https://localhost:8080/",
          "height": 742
        },
        "id": "JWKm1u4OVa_E",
        "outputId": "af8284c6-1a58-4fc3-d439-1767dc13da31"
      },
      "execution_count": null,
      "outputs": [
        {
          "output_type": "stream",
          "name": "stdout",
          "text": [
            "Image size: 72 X 72\n",
            "Patch size: 6 X 6\n",
            "Patches per image: 144\n",
            "Elements per patch: 36\n"
          ]
        },
        {
          "output_type": "display_data",
          "data": {
            "text/plain": [
              "<Figure size 400x400 with 1 Axes>"
            ],
            "image/png": "[encoded data removed]"
          },
          "metadata": {}
        },
        {
          "output_type": "display_data",
          "data": {
            "text/plain": [
              "<Figure size 400x400 with 144 Axes>"
            ],
            "image/png": "[encoded data removed]"
          },
          "metadata": {}
        }
      ]
    },
    {
      "cell_type": "code",
      "source": [
        "class PatchEncoder(layers.Layer):\n",
        "    def __init__(self, num_patches, projection_dim):\n",
        "        super().__init__()\n",
        "        self.num_patches = num_patches\n",
        "        self.projection = layers.Dense(units=projection_dim)\n",
        "        self.position_embedding = layers.Embedding(\n",
        "            input_dim=num_patches, output_dim=projection_dim\n",
        "        )\n",
        "\n",
        "    def call(self, patch):\n",
        "        positions = tf.range(start=0, limit=self.num_patches, delta=1)\n",
        "        encoded = self.projection(patch) + self.position_embedding(positions)\n",
        "        return encoded"
      ],
      "metadata": {
        "id": "e-v3gS7iWrnW"
      },
      "execution_count": null,
      "outputs": []
    },
    {
      "cell_type": "code",
      "source": [
        "input_shape = (48, 48, 3)\n",
        "num_classes = 7\n",
        "\n",
        "def create_vit_classifier():\n",
        "    inputs = layers.Input(shape=input_shape)\n",
        "    augmented = data_augmentation(inputs)\n",
        "    patches = Patches(patch_size)(augmented)\n",
        "    encoded_patches = PatchEncoder(num_patches, projection_dim)(patches)\n",
        "\n",
        "    for _ in range(transformer_layers):\n",
        "        x1 = layers.LayerNormalization(epsilon=1e-6)(encoded_patches)\n",
        "        attention_output = layers.MultiHeadAttention(\n",
        "            num_heads=num_heads, key_dim=projection_dim, dropout=0.1\n",
        "        )(x1, x1)\n",
        "        x2 = layers.Add()([attention_output, encoded_patches])\n",
        "        x3 = layers.LayerNormalization(epsilon=1e-6)(x2)\n",
        "        x3 = mlp(x3, hidden_units=transformer_units, dropout_rate=0.1)\n",
        "        encoded_patches = layers.Add()([x3, x2])\n",
        "\n",
        "    representation = layers.LayerNormalization(epsilon=1e-6)(encoded_patches)\n",
        "    representation = layers.Flatten()(representation)\n",
        "    representation = layers.Dropout(0.5)(representation)\n",
        "\n",
        "    features = mlp(representation, hidden_units=mlp_head_units, dropout_rate=0.5)\n",
        " \n",
        "    logits = layers.Dense(num_classes)(features)\n",
        "    \n",
        "    model = keras.Model(inputs=inputs, outputs=logits)\n",
        "    return model"
      ],
      "metadata": {
        "id": "4bqobj9_WycG"
      },
      "execution_count": null,
      "outputs": []
    },
    {
      "cell_type": "code",
      "source": [
        "import tensorflow_addons as tfa\n",
        "\n",
        "def run_experiment(model):\n",
        "    optimizer = tfa.optimizers.AdamW(\n",
        "        learning_rate=learning_rate, weight_decay=weight_decay\n",
        "    )\n",
        "\n",
        "    model.compile(\n",
        "        optimizer=optimizer,\n",
        "        loss=keras.losses.CategoricalCrossentropy(from_logits=True),\n",
        "        metrics=[\n",
        "            keras.metrics.CategoricalAccuracy(name=\"accuracy\"),\n",
        "            keras.metrics.TopKCategoricalAccuracy(5, name=\"top-5-accuracy\"),\n",
        "        ],\n",
        "    )\n",
        "\n",
        "    checkpoint_filepath = \"/tmp/checkpoint\"\n",
        "    checkpoint_callback = keras.callbacks.ModelCheckpoint(\n",
        "        checkpoint_filepath,\n",
        "        monitor=\"val_accuracy\",\n",
        "        save_best_only=True,\n",
        "        save_weights_only=True,\n",
        "    )\n",
        "\n",
        "    history = model.fit(\n",
        "        x=X_train_new,\n",
        "        y=y_train,\n",
        "        batch_size=batch_size,\n",
        "        epochs=num_epochs,\n",
        "        validation_split=0.1,\n",
        "        callbacks=[checkpoint_callback],\n",
        "    )\n",
        "\n",
        "    model.load_weights(checkpoint_filepath)\n",
        "    _, accuracy, top_5_accuracy = model.evaluate(X_test_new, y_test)\n",
        "    print(f\"Test accuracy: {round(accuracy * 100, 2)}%\")\n",
        "    print(f\"Test top 5 accuracy: {round(top_5_accuracy * 100, 2)}%\")\n",
        "\n",
        "    return history\n",
        "\n",
        "\n",
        "vit_classifier = create_vit_classifier()\n",
        "history = run_experiment(vit_classifier)"
      ],
      "metadata": {
        "colab": {
          "base_uri": "https://localhost:8080/"
        },
        "id": "uOXGbx1DW3eI",
        "outputId": "32577090-37d6-47d9-9da9-77a80847ae7d"
      },
      "execution_count": null,
      "outputs": [
        {
          "output_type": "stream",
          "name": "stdout",
          "text": [
            "Epoch 1/100\n",
            "94/94 [==============================] - 45s 343ms/step - loss: 2.3349 - accuracy: 0.1954 - top-5-accuracy: 0.7778 - val_loss: 1.8644 - val_accuracy: 0.2551 - val_top-5-accuracy: 0.8333\n",
            "Epoch 2/100\n",
            "94/94 [==============================] - 31s 330ms/step - loss: 1.8797 - accuracy: 0.2423 - top-5-accuracy: 0.8177 - val_loss: 1.7849 - val_accuracy: 0.3277 - val_top-5-accuracy: 0.8666\n",
            "Epoch 3/100\n",
            "94/94 [==============================] - 31s 330ms/step - loss: 1.8434 - accuracy: 0.2645 - top-5-accuracy: 0.8377 - val_loss: 1.7597 - val_accuracy: 0.3330 - val_top-5-accuracy: 0.8768\n",
            "Epoch 4/100\n",
            "94/94 [==============================] - 31s 334ms/step - loss: 1.7951 - accuracy: 0.2932 - top-5-accuracy: 0.8597 - val_loss: 1.6952 - val_accuracy: 0.3719 - val_top-5-accuracy: 0.8893\n",
            "Epoch 5/100\n",
            "94/94 [==============================] - 32s 338ms/step - loss: 1.7756 - accuracy: 0.3057 - top-5-accuracy: 0.8628 - val_loss: 1.6418 - val_accuracy: 0.3881 - val_top-5-accuracy: 0.9006\n",
            "Epoch 6/100\n",
            "94/94 [==============================] - 32s 338ms/step - loss: 1.7372 - accuracy: 0.3243 - top-5-accuracy: 0.8748 - val_loss: 1.6149 - val_accuracy: 0.3923 - val_top-5-accuracy: 0.9040\n",
            "Epoch 7/100\n",
            "94/94 [==============================] - 32s 341ms/step - loss: 1.6926 - accuracy: 0.3461 - top-5-accuracy: 0.8907 - val_loss: 1.5697 - val_accuracy: 0.4169 - val_top-5-accuracy: 0.9165\n",
            "Epoch 8/100\n",
            "94/94 [==============================] - 31s 328ms/step - loss: 1.7419 - accuracy: 0.3250 - top-5-accuracy: 0.8758 - val_loss: 1.5797 - val_accuracy: 0.4067 - val_top-5-accuracy: 0.9218\n",
            "Epoch 9/100\n",
            "94/94 [==============================] - 32s 343ms/step - loss: 1.6742 - accuracy: 0.3594 - top-5-accuracy: 0.8931 - val_loss: 1.5085 - val_accuracy: 0.4422 - val_top-5-accuracy: 0.9297\n",
            "Epoch 10/100\n",
            "94/94 [==============================] - 32s 343ms/step - loss: 1.6274 - accuracy: 0.3743 - top-5-accuracy: 0.9070 - val_loss: 1.4768 - val_accuracy: 0.4467 - val_top-5-accuracy: 0.9392\n",
            "Epoch 11/100\n",
            "94/94 [==============================] - 32s 345ms/step - loss: 1.5980 - accuracy: 0.3883 - top-5-accuracy: 0.9118 - val_loss: 1.4267 - val_accuracy: 0.4554 - val_top-5-accuracy: 0.9403\n",
            "Epoch 12/100\n",
            "94/94 [==============================] - 33s 347ms/step - loss: 1.5677 - accuracy: 0.4011 - top-5-accuracy: 0.9200 - val_loss: 1.3940 - val_accuracy: 0.4834 - val_top-5-accuracy: 0.9452\n",
            "Epoch 13/100\n",
            "94/94 [==============================] - 33s 346ms/step - loss: 1.5192 - accuracy: 0.4201 - top-5-accuracy: 0.9274 - val_loss: 1.3540 - val_accuracy: 0.4853 - val_top-5-accuracy: 0.9467\n",
            "Epoch 14/100\n",
            "94/94 [==============================] - 32s 346ms/step - loss: 1.4863 - accuracy: 0.4344 - top-5-accuracy: 0.9333 - val_loss: 1.3149 - val_accuracy: 0.4924 - val_top-5-accuracy: 0.9580\n",
            "Epoch 15/100\n",
            "94/94 [==============================] - 33s 346ms/step - loss: 1.4681 - accuracy: 0.4376 - top-5-accuracy: 0.9378 - val_loss: 1.2821 - val_accuracy: 0.5060 - val_top-5-accuracy: 0.9588\n",
            "Epoch 16/100\n",
            "94/94 [==============================] - 32s 345ms/step - loss: 1.4601 - accuracy: 0.4409 - top-5-accuracy: 0.9373 - val_loss: 1.2726 - val_accuracy: 0.5072 - val_top-5-accuracy: 0.9577\n",
            "Epoch 17/100\n",
            "94/94 [==============================] - 33s 346ms/step - loss: 1.4375 - accuracy: 0.4476 - top-5-accuracy: 0.9428 - val_loss: 1.2427 - val_accuracy: 0.5110 - val_top-5-accuracy: 0.9645\n",
            "Epoch 18/100\n",
            "94/94 [==============================] - 32s 344ms/step - loss: 1.3835 - accuracy: 0.4699 - top-5-accuracy: 0.9501 - val_loss: 1.2435 - val_accuracy: 0.5204 - val_top-5-accuracy: 0.9652\n",
            "Epoch 19/100\n",
            "94/94 [==============================] - 32s 345ms/step - loss: 1.3809 - accuracy: 0.4741 - top-5-accuracy: 0.9492 - val_loss: 1.2153 - val_accuracy: 0.5314 - val_top-5-accuracy: 0.9717\n",
            "Epoch 20/100\n",
            "94/94 [==============================] - 31s 333ms/step - loss: 1.3384 - accuracy: 0.4830 - top-5-accuracy: 0.9560 - val_loss: 1.2245 - val_accuracy: 0.5193 - val_top-5-accuracy: 0.9641\n",
            "Epoch 21/100\n",
            "94/94 [==============================] - 32s 346ms/step - loss: 1.4015 - accuracy: 0.4611 - top-5-accuracy: 0.9464 - val_loss: 1.2080 - val_accuracy: 0.5351 - val_top-5-accuracy: 0.9698\n",
            "Epoch 22/100\n",
            "94/94 [==============================] - 32s 344ms/step - loss: 1.3393 - accuracy: 0.4818 - top-5-accuracy: 0.9570 - val_loss: 1.1874 - val_accuracy: 0.5378 - val_top-5-accuracy: 0.9713\n",
            "Epoch 23/100\n",
            "94/94 [==============================] - 32s 345ms/step - loss: 1.3071 - accuracy: 0.5001 - top-5-accuracy: 0.9596 - val_loss: 1.1502 - val_accuracy: 0.5495 - val_top-5-accuracy: 0.9766\n",
            "Epoch 24/100\n",
            "94/94 [==============================] - 31s 332ms/step - loss: 1.2989 - accuracy: 0.4985 - top-5-accuracy: 0.9602 - val_loss: 1.1647 - val_accuracy: 0.5404 - val_top-5-accuracy: 0.9728\n",
            "Epoch 25/100\n",
            "94/94 [==============================] - 31s 332ms/step - loss: 1.3047 - accuracy: 0.4968 - top-5-accuracy: 0.9602 - val_loss: 1.1573 - val_accuracy: 0.5488 - val_top-5-accuracy: 0.9751\n",
            "Epoch 26/100\n",
            "94/94 [==============================] - 31s 331ms/step - loss: 1.2740 - accuracy: 0.5106 - top-5-accuracy: 0.9616 - val_loss: 1.1752 - val_accuracy: 0.5404 - val_top-5-accuracy: 0.9728\n",
            "Epoch 27/100\n",
            "94/94 [==============================] - 31s 333ms/step - loss: 1.3446 - accuracy: 0.4813 - top-5-accuracy: 0.9552 - val_loss: 1.1430 - val_accuracy: 0.5461 - val_top-5-accuracy: 0.9735\n",
            "Epoch 28/100\n",
            "94/94 [==============================] - 32s 344ms/step - loss: 1.2612 - accuracy: 0.5156 - top-5-accuracy: 0.9643 - val_loss: 1.1339 - val_accuracy: 0.5608 - val_top-5-accuracy: 0.9758\n",
            "Epoch 29/100\n",
            "94/94 [==============================] - 32s 344ms/step - loss: 1.2512 - accuracy: 0.5182 - top-5-accuracy: 0.9653 - val_loss: 1.1175 - val_accuracy: 0.5650 - val_top-5-accuracy: 0.9800\n",
            "Epoch 30/100\n",
            "94/94 [==============================] - 31s 332ms/step - loss: 1.2221 - accuracy: 0.5289 - top-5-accuracy: 0.9677 - val_loss: 1.1349 - val_accuracy: 0.5574 - val_top-5-accuracy: 0.9743\n",
            "Epoch 31/100\n",
            "94/94 [==============================] - 32s 345ms/step - loss: 1.2894 - accuracy: 0.5068 - top-5-accuracy: 0.9593 - val_loss: 1.1254 - val_accuracy: 0.5688 - val_top-5-accuracy: 0.9735\n",
            "Epoch 32/100\n",
            "94/94 [==============================] - 31s 332ms/step - loss: 1.2229 - accuracy: 0.5319 - top-5-accuracy: 0.9672 - val_loss: 1.1134 - val_accuracy: 0.5661 - val_top-5-accuracy: 0.9724\n",
            "Epoch 33/100\n",
            "94/94 [==============================] - 32s 345ms/step - loss: 1.1847 - accuracy: 0.5420 - top-5-accuracy: 0.9721 - val_loss: 1.0901 - val_accuracy: 0.5794 - val_top-5-accuracy: 0.9758\n",
            "Epoch 34/100\n",
            "94/94 [==============================] - 31s 332ms/step - loss: 1.1688 - accuracy: 0.5464 - top-5-accuracy: 0.9710 - val_loss: 1.0864 - val_accuracy: 0.5760 - val_top-5-accuracy: 0.9792\n",
            "Epoch 35/100\n",
            "94/94 [==============================] - 32s 346ms/step - loss: 1.1570 - accuracy: 0.5554 - top-5-accuracy: 0.9743 - val_loss: 1.0739 - val_accuracy: 0.5839 - val_top-5-accuracy: 0.9769\n",
            "Epoch 36/100\n",
            "94/94 [==============================] - 32s 345ms/step - loss: 1.1701 - accuracy: 0.5517 - top-5-accuracy: 0.9719 - val_loss: 1.0635 - val_accuracy: 0.5850 - val_top-5-accuracy: 0.9785\n",
            "Epoch 37/100\n",
            "94/94 [==============================] - 31s 332ms/step - loss: 1.1332 - accuracy: 0.5654 - top-5-accuracy: 0.9753 - val_loss: 1.0689 - val_accuracy: 0.5850 - val_top-5-accuracy: 0.9792\n",
            "Epoch 38/100\n",
            "94/94 [==============================] - 31s 332ms/step - loss: 1.1707 - accuracy: 0.5512 - top-5-accuracy: 0.9721 - val_loss: 1.0790 - val_accuracy: 0.5813 - val_top-5-accuracy: 0.9773\n",
            "Epoch 39/100\n",
            "94/94 [==============================] - 33s 347ms/step - loss: 1.1655 - accuracy: 0.5518 - top-5-accuracy: 0.9724 - val_loss: 1.0592 - val_accuracy: 0.5956 - val_top-5-accuracy: 0.9800\n",
            "Epoch 40/100\n",
            "94/94 [==============================] - 31s 331ms/step - loss: 1.1400 - accuracy: 0.5639 - top-5-accuracy: 0.9751 - val_loss: 1.0720 - val_accuracy: 0.5858 - val_top-5-accuracy: 0.9807\n",
            "Epoch 41/100\n",
            "94/94 [==============================] - 31s 334ms/step - loss: 1.1686 - accuracy: 0.5498 - top-5-accuracy: 0.9711 - val_loss: 1.0573 - val_accuracy: 0.5805 - val_top-5-accuracy: 0.9826\n",
            "Epoch 42/100\n",
            "94/94 [==============================] - 31s 331ms/step - loss: 1.1227 - accuracy: 0.5685 - top-5-accuracy: 0.9768 - val_loss: 1.0431 - val_accuracy: 0.5956 - val_top-5-accuracy: 0.9834\n",
            "Epoch 43/100\n",
            "94/94 [==============================] - 33s 347ms/step - loss: 1.1151 - accuracy: 0.5751 - top-5-accuracy: 0.9768 - val_loss: 1.0413 - val_accuracy: 0.6002 - val_top-5-accuracy: 0.9830\n",
            "Epoch 44/100\n",
            "94/94 [==============================] - 33s 348ms/step - loss: 1.0717 - accuracy: 0.5925 - top-5-accuracy: 0.9806 - val_loss: 1.0286 - val_accuracy: 0.6047 - val_top-5-accuracy: 0.9822\n",
            "Epoch 45/100\n",
            "94/94 [==============================] - 31s 331ms/step - loss: 1.0856 - accuracy: 0.5849 - top-5-accuracy: 0.9782 - val_loss: 1.0282 - val_accuracy: 0.6024 - val_top-5-accuracy: 0.9845\n",
            "Epoch 46/100\n",
            "94/94 [==============================] - 31s 332ms/step - loss: 1.0978 - accuracy: 0.5840 - top-5-accuracy: 0.9766 - val_loss: 1.0450 - val_accuracy: 0.5990 - val_top-5-accuracy: 0.9826\n",
            "Epoch 47/100\n",
            "94/94 [==============================] - 31s 332ms/step - loss: 1.0768 - accuracy: 0.5877 - top-5-accuracy: 0.9793 - val_loss: 1.0298 - val_accuracy: 0.6013 - val_top-5-accuracy: 0.9834\n",
            "Epoch 48/100\n",
            "94/94 [==============================] - 31s 333ms/step - loss: 1.0974 - accuracy: 0.5811 - top-5-accuracy: 0.9768 - val_loss: 1.0403 - val_accuracy: 0.6002 - val_top-5-accuracy: 0.9822\n",
            "Epoch 49/100\n",
            "94/94 [==============================] - 32s 345ms/step - loss: 1.0790 - accuracy: 0.5888 - top-5-accuracy: 0.9774 - val_loss: 1.0196 - val_accuracy: 0.6138 - val_top-5-accuracy: 0.9845\n",
            "Epoch 50/100\n",
            "94/94 [==============================] - 31s 332ms/step - loss: 1.0501 - accuracy: 0.5990 - top-5-accuracy: 0.9810 - val_loss: 1.0231 - val_accuracy: 0.6073 - val_top-5-accuracy: 0.9837\n",
            "Epoch 51/100\n",
            "94/94 [==============================] - 33s 347ms/step - loss: 1.0629 - accuracy: 0.5933 - top-5-accuracy: 0.9803 - val_loss: 1.0173 - val_accuracy: 0.6145 - val_top-5-accuracy: 0.9834\n",
            "Epoch 52/100\n",
            "94/94 [==============================] - 31s 332ms/step - loss: 1.0294 - accuracy: 0.6102 - top-5-accuracy: 0.9824 - val_loss: 1.0136 - val_accuracy: 0.6088 - val_top-5-accuracy: 0.9834\n",
            "Epoch 53/100\n",
            "94/94 [==============================] - 31s 332ms/step - loss: 1.0025 - accuracy: 0.6183 - top-5-accuracy: 0.9847 - val_loss: 1.0245 - val_accuracy: 0.6096 - val_top-5-accuracy: 0.9822\n",
            "Epoch 54/100\n",
            "94/94 [==============================] - 31s 333ms/step - loss: 1.0020 - accuracy: 0.6193 - top-5-accuracy: 0.9837 - val_loss: 1.0157 - val_accuracy: 0.6051 - val_top-5-accuracy: 0.9841\n",
            "Epoch 55/100\n",
            "94/94 [==============================] - 31s 332ms/step - loss: 0.9841 - accuracy: 0.6251 - top-5-accuracy: 0.9854 - val_loss: 1.0135 - val_accuracy: 0.6130 - val_top-5-accuracy: 0.9841\n",
            "Epoch 56/100\n",
            "94/94 [==============================] - 32s 346ms/step - loss: 1.0206 - accuracy: 0.6117 - top-5-accuracy: 0.9821 - val_loss: 0.9954 - val_accuracy: 0.6190 - val_top-5-accuracy: 0.9845\n",
            "Epoch 57/100\n",
            "94/94 [==============================] - 33s 351ms/step - loss: 0.9788 - accuracy: 0.6272 - top-5-accuracy: 0.9866 - val_loss: 0.9905 - val_accuracy: 0.6217 - val_top-5-accuracy: 0.9860\n",
            "Epoch 58/100\n",
            "94/94 [==============================] - 31s 333ms/step - loss: 1.0003 - accuracy: 0.6202 - top-5-accuracy: 0.9829 - val_loss: 0.9944 - val_accuracy: 0.6213 - val_top-5-accuracy: 0.9860\n",
            "Epoch 59/100\n",
            "94/94 [==============================] - 31s 333ms/step - loss: 0.9655 - accuracy: 0.6296 - top-5-accuracy: 0.9856 - val_loss: 1.0020 - val_accuracy: 0.6104 - val_top-5-accuracy: 0.9830\n",
            "Epoch 60/100\n",
            "94/94 [==============================] - 31s 333ms/step - loss: 0.9735 - accuracy: 0.6324 - top-5-accuracy: 0.9850 - val_loss: 1.0053 - val_accuracy: 0.6156 - val_top-5-accuracy: 0.9815\n",
            "Epoch 61/100\n",
            "94/94 [==============================] - 31s 332ms/step - loss: 1.0073 - accuracy: 0.6188 - top-5-accuracy: 0.9831 - val_loss: 1.0169 - val_accuracy: 0.6047 - val_top-5-accuracy: 0.9826\n",
            "Epoch 62/100\n",
            "94/94 [==============================] - 31s 332ms/step - loss: 0.9859 - accuracy: 0.6288 - top-5-accuracy: 0.9832 - val_loss: 1.0183 - val_accuracy: 0.6104 - val_top-5-accuracy: 0.9800\n",
            "Epoch 63/100\n",
            "94/94 [==============================] - 31s 331ms/step - loss: 0.9805 - accuracy: 0.6259 - top-5-accuracy: 0.9837 - val_loss: 1.0052 - val_accuracy: 0.6141 - val_top-5-accuracy: 0.9841\n",
            "Epoch 64/100\n",
            "94/94 [==============================] - 31s 332ms/step - loss: 0.9419 - accuracy: 0.6440 - top-5-accuracy: 0.9871 - val_loss: 1.0342 - val_accuracy: 0.6043 - val_top-5-accuracy: 0.9819\n",
            "Epoch 65/100\n",
            "94/94 [==============================] - 31s 332ms/step - loss: 0.9666 - accuracy: 0.6365 - top-5-accuracy: 0.9853 - val_loss: 0.9943 - val_accuracy: 0.6190 - val_top-5-accuracy: 0.9856\n",
            "Epoch 66/100\n",
            "94/94 [==============================] - 33s 346ms/step - loss: 0.9813 - accuracy: 0.6331 - top-5-accuracy: 0.9844 - val_loss: 0.9857 - val_accuracy: 0.6243 - val_top-5-accuracy: 0.9826\n",
            "Epoch 67/100\n",
            "94/94 [==============================] - 33s 347ms/step - loss: 0.9084 - accuracy: 0.6571 - top-5-accuracy: 0.9882 - val_loss: 0.9811 - val_accuracy: 0.6342 - val_top-5-accuracy: 0.9868\n",
            "Epoch 68/100\n",
            "94/94 [==============================] - 31s 331ms/step - loss: 0.8962 - accuracy: 0.6658 - top-5-accuracy: 0.9882 - val_loss: 0.9801 - val_accuracy: 0.6315 - val_top-5-accuracy: 0.9868\n",
            "Epoch 69/100\n",
            "94/94 [==============================] - 31s 333ms/step - loss: 0.8710 - accuracy: 0.6730 - top-5-accuracy: 0.9905 - val_loss: 0.9847 - val_accuracy: 0.6334 - val_top-5-accuracy: 0.9860\n",
            "Epoch 70/100\n",
            "94/94 [==============================] - 31s 331ms/step - loss: 0.8935 - accuracy: 0.6657 - top-5-accuracy: 0.9886 - val_loss: 0.9992 - val_accuracy: 0.6247 - val_top-5-accuracy: 0.9830\n",
            "Epoch 71/100\n",
            "94/94 [==============================] - 31s 331ms/step - loss: 0.8740 - accuracy: 0.6745 - top-5-accuracy: 0.9893 - val_loss: 0.9873 - val_accuracy: 0.6247 - val_top-5-accuracy: 0.9853\n",
            "Epoch 72/100\n",
            "94/94 [==============================] - 31s 331ms/step - loss: 0.8402 - accuracy: 0.6867 - top-5-accuracy: 0.9921 - val_loss: 0.9850 - val_accuracy: 0.6228 - val_top-5-accuracy: 0.9815\n",
            "Epoch 73/100\n",
            "94/94 [==============================] - 31s 331ms/step - loss: 0.8409 - accuracy: 0.6868 - top-5-accuracy: 0.9905 - val_loss: 0.9908 - val_accuracy: 0.6274 - val_top-5-accuracy: 0.9860\n",
            "Epoch 74/100\n",
            "94/94 [==============================] - 31s 332ms/step - loss: 0.8149 - accuracy: 0.6930 - top-5-accuracy: 0.9921 - val_loss: 0.9878 - val_accuracy: 0.6266 - val_top-5-accuracy: 0.9853\n",
            "Epoch 75/100\n",
            "94/94 [==============================] - 31s 333ms/step - loss: 0.8500 - accuracy: 0.6829 - top-5-accuracy: 0.9904 - val_loss: 0.9819 - val_accuracy: 0.6300 - val_top-5-accuracy: 0.9837\n",
            "Epoch 76/100\n",
            "94/94 [==============================] - 32s 346ms/step - loss: 0.7933 - accuracy: 0.7073 - top-5-accuracy: 0.9923 - val_loss: 0.9985 - val_accuracy: 0.6379 - val_top-5-accuracy: 0.9841\n",
            "Epoch 77/100\n",
            "94/94 [==============================] - 31s 332ms/step - loss: 0.9258 - accuracy: 0.6563 - top-5-accuracy: 0.9878 - val_loss: 0.9871 - val_accuracy: 0.6281 - val_top-5-accuracy: 0.9864\n",
            "Epoch 78/100\n",
            "94/94 [==============================] - 31s 333ms/step - loss: 0.8533 - accuracy: 0.6837 - top-5-accuracy: 0.9909 - val_loss: 0.9915 - val_accuracy: 0.6270 - val_top-5-accuracy: 0.9883\n",
            "Epoch 79/100\n",
            "94/94 [==============================] - 31s 332ms/step - loss: 0.7964 - accuracy: 0.7069 - top-5-accuracy: 0.9930 - val_loss: 0.9965 - val_accuracy: 0.6213 - val_top-5-accuracy: 0.9860\n",
            "Epoch 80/100\n",
            "94/94 [==============================] - 31s 333ms/step - loss: 0.8326 - accuracy: 0.6918 - top-5-accuracy: 0.9911 - val_loss: 0.9826 - val_accuracy: 0.6334 - val_top-5-accuracy: 0.9864\n",
            "Epoch 81/100\n",
            "94/94 [==============================] - 31s 332ms/step - loss: 0.7723 - accuracy: 0.7160 - top-5-accuracy: 0.9924 - val_loss: 1.0087 - val_accuracy: 0.6270 - val_top-5-accuracy: 0.9834\n",
            "Epoch 82/100\n",
            "94/94 [==============================] - 31s 332ms/step - loss: 0.8696 - accuracy: 0.6790 - top-5-accuracy: 0.9899 - val_loss: 1.0035 - val_accuracy: 0.6293 - val_top-5-accuracy: 0.9872\n",
            "Epoch 83/100\n",
            "94/94 [==============================] - 31s 331ms/step - loss: 0.8017 - accuracy: 0.7050 - top-5-accuracy: 0.9914 - val_loss: 1.0076 - val_accuracy: 0.6277 - val_top-5-accuracy: 0.9845\n",
            "Epoch 84/100\n",
            "94/94 [==============================] - 31s 331ms/step - loss: 0.8424 - accuracy: 0.6909 - top-5-accuracy: 0.9896 - val_loss: 0.9961 - val_accuracy: 0.6262 - val_top-5-accuracy: 0.9845\n",
            "Epoch 85/100\n",
            "94/94 [==============================] - 31s 332ms/step - loss: 0.7787 - accuracy: 0.7098 - top-5-accuracy: 0.9938 - val_loss: 1.0040 - val_accuracy: 0.6338 - val_top-5-accuracy: 0.9856\n",
            "Epoch 86/100\n",
            "94/94 [==============================] - 31s 332ms/step - loss: 0.7960 - accuracy: 0.7045 - top-5-accuracy: 0.9926 - val_loss: 1.0110 - val_accuracy: 0.6236 - val_top-5-accuracy: 0.9856\n",
            "Epoch 87/100\n",
            "94/94 [==============================] - 31s 332ms/step - loss: 0.7518 - accuracy: 0.7241 - top-5-accuracy: 0.9931 - val_loss: 0.9943 - val_accuracy: 0.6379 - val_top-5-accuracy: 0.9815\n",
            "Epoch 88/100\n",
            "94/94 [==============================] - 31s 333ms/step - loss: 0.7702 - accuracy: 0.7144 - top-5-accuracy: 0.9929 - val_loss: 0.9935 - val_accuracy: 0.6353 - val_top-5-accuracy: 0.9860\n",
            "Epoch 89/100\n",
            "94/94 [==============================] - 31s 333ms/step - loss: 0.7520 - accuracy: 0.7204 - top-5-accuracy: 0.9945 - val_loss: 1.0175 - val_accuracy: 0.6270 - val_top-5-accuracy: 0.9860\n",
            "Epoch 90/100\n",
            "94/94 [==============================] - 31s 332ms/step - loss: 0.7665 - accuracy: 0.7196 - top-5-accuracy: 0.9929 - val_loss: 1.0116 - val_accuracy: 0.6266 - val_top-5-accuracy: 0.9837\n",
            "Epoch 91/100\n",
            "94/94 [==============================] - 33s 346ms/step - loss: 0.7151 - accuracy: 0.7338 - top-5-accuracy: 0.9945 - val_loss: 0.9967 - val_accuracy: 0.6466 - val_top-5-accuracy: 0.9841\n",
            "Epoch 92/100\n",
            "94/94 [==============================] - 31s 331ms/step - loss: 0.6812 - accuracy: 0.7487 - top-5-accuracy: 0.9951 - val_loss: 1.0192 - val_accuracy: 0.6228 - val_top-5-accuracy: 0.9856\n",
            "Epoch 93/100\n",
            "94/94 [==============================] - 31s 333ms/step - loss: 0.7549 - accuracy: 0.7227 - top-5-accuracy: 0.9931 - val_loss: 1.0234 - val_accuracy: 0.6243 - val_top-5-accuracy: 0.9864\n",
            "Epoch 94/100\n",
            "94/94 [==============================] - 31s 331ms/step - loss: 0.7247 - accuracy: 0.7352 - top-5-accuracy: 0.9936 - val_loss: 1.0204 - val_accuracy: 0.6300 - val_top-5-accuracy: 0.9872\n",
            "Epoch 95/100\n",
            "94/94 [==============================] - 31s 333ms/step - loss: 0.6835 - accuracy: 0.7475 - top-5-accuracy: 0.9949 - val_loss: 1.0247 - val_accuracy: 0.6293 - val_top-5-accuracy: 0.9872\n",
            "Epoch 96/100\n",
            "94/94 [==============================] - 31s 331ms/step - loss: 0.6949 - accuracy: 0.7453 - top-5-accuracy: 0.9934 - val_loss: 1.0220 - val_accuracy: 0.6330 - val_top-5-accuracy: 0.9864\n",
            "Epoch 97/100\n",
            "94/94 [==============================] - 31s 333ms/step - loss: 0.6774 - accuracy: 0.7545 - top-5-accuracy: 0.9952 - val_loss: 1.0476 - val_accuracy: 0.6379 - val_top-5-accuracy: 0.9864\n",
            "Epoch 98/100\n",
            "94/94 [==============================] - 31s 332ms/step - loss: 0.6619 - accuracy: 0.7589 - top-5-accuracy: 0.9956 - val_loss: 1.0146 - val_accuracy: 0.6308 - val_top-5-accuracy: 0.9853\n",
            "Epoch 99/100\n",
            "94/94 [==============================] - 31s 332ms/step - loss: 0.6941 - accuracy: 0.7472 - top-5-accuracy: 0.9945 - val_loss: 1.0215 - val_accuracy: 0.6319 - val_top-5-accuracy: 0.9849\n",
            "Epoch 100/100\n",
            "94/94 [==============================] - 31s 332ms/step - loss: 0.6900 - accuracy: 0.7496 - top-5-accuracy: 0.9950 - val_loss: 1.0121 - val_accuracy: 0.6395 - val_top-5-accuracy: 0.9860\n",
            "207/207 [==============================] - 5s 22ms/step - loss: 1.0074 - accuracy: 0.6346 - top-5-accuracy: 0.9858\n",
            "Test accuracy: 63.46%\n",
            "Test top 5 accuracy: 98.58%\n"
          ]
        }
      ]
    },
    {
      "cell_type": "code",
      "source": [
        "score = vit_classifier.evaluate(X_test_new)\n",
        "\n",
        "print('Test loss:', score[0])\n",
        "print('Test accuracy:', score[1])\n",
        "\n",
        "from sklearn.metrics import confusion_matrix\n",
        "\n",
        "y_pred = vit_classifier.predict(X_train_new).argmax(axis = 1)\n",
        "y_train = np.argmax(y_train, axis = 1)\n",
        "\n",
        "confusion_matrix(y_train, y_pred)"
      ],
      "metadata": {
        "id": "-lsPn9OcZOfS",
        "colab": {
          "base_uri": "https://localhost:8080/"
        },
        "outputId": "4cb76a05-17cc-47ce-b018-381c56b91aa5"
      },
      "execution_count": null,
      "outputs": [
        {
          "output_type": "stream",
          "name": "stdout",
          "text": [
            "207/207 [==============================] - 1s 6ms/step - loss: 0.0000e+00 - accuracy: 0.0000e+00 - top-5-accuracy: 0.0000e+00\n",
            "Test loss: 0.0\n",
            "Test accuracy: 0.0\n",
            "827/827 [==============================] - 21s 23ms/step\n"
          ]
        },
        {
          "output_type": "execute_result",
          "data": {
            "text/plain": [
              "array([[2605,    1,  102,   65,  237,   21,  191],\n",
              "       [   0, 3836,    0,    0,    0,    0,    0],\n",
              "       [ 120,    1, 2523,   64,  294,  116,  173],\n",
              "       [  28,    0,   24, 5533,   68,   25,   80],\n",
              "       [  98,    0,  133,   59, 3258,   12,  288],\n",
              "       [   6,    6,   63,   62,   17, 2354,   33],\n",
              "       [  45,    1,   47,  163,  230,   21, 3452]])"
            ]
          },
          "metadata": {},
          "execution_count": 14
        }
      ]
    },
    {
      "cell_type": "code",
      "source": [
        "from sklearn.metrics import classification_report\n",
        "\n",
        "print(classification_report(y_train, y_pred))"
      ],
      "metadata": {
        "id": "frRNMKLB2QK7",
        "colab": {
          "base_uri": "https://localhost:8080/"
        },
        "outputId": "7e24a0c7-4b24-44be-9ff8-4fc7d4c8a5d4"
      },
      "execution_count": null,
      "outputs": [
        {
          "output_type": "stream",
          "name": "stdout",
          "text": [
            "              precision    recall  f1-score   support\n",
            "\n",
            "           0       0.90      0.81      0.85      3222\n",
            "           1       1.00      1.00      1.00      3836\n",
            "           2       0.87      0.77      0.82      3291\n",
            "           3       0.93      0.96      0.95      5758\n",
            "           4       0.79      0.85      0.82      3848\n",
            "           5       0.92      0.93      0.92      2541\n",
            "           6       0.82      0.87      0.84      3959\n",
            "\n",
            "    accuracy                           0.89     26455\n",
            "   macro avg       0.89      0.88      0.89     26455\n",
            "weighted avg       0.89      0.89      0.89     26455\n",
            "\n"
          ]
        }
      ]
    },
    {
      "cell_type": "code",
      "source": [
        "plt.figure(figsize=(6, 6))\n",
        "plt.title('Model accuracy')\n",
        "\n",
        "plt.plot(history.history['accuracy'])\n",
        "plt.plot(history.history['val_accuracy'])\n",
        "\n",
        "plt.ylabel('Accuracy')\n",
        "plt.xlabel('Epoch')\n",
        "plt.legend(['Train', 'Validation'], loc='upper left')\n",
        "plt.show()"
      ],
      "metadata": {
        "id": "WdEOJiLJZPYF",
        "colab": {
          "base_uri": "https://localhost:8080/",
          "height": 564
        },
        "outputId": "46ecbd28-d05a-412b-82cc-28642258d9df"
      },
      "execution_count": null,
      "outputs": [
        {
          "output_type": "display_data",
          "data": {
            "text/plain": [
              "<Figure size 600x600 with 1 Axes>"
            ],
            "image/png": "[encoded data removed]"
          },
          "metadata": {}
        }
      ]
    },
    {
      "cell_type": "code",
      "source": [
        "tf.keras.models.save_model(vit_classifier, 'vit_model.hdf5')"
      ],
      "metadata": {
        "id": "C347-3zfZErB"
      },
      "execution_count": null,
      "outputs": []
    },
    {
      "cell_type": "code",
      "source": [
        "tf.keras.models.save_model(vit_classifier, 'vit_new_model')"
      ],
      "metadata": {
        "id": "iOUkb1LaMlpA",
        "colab": {
          "base_uri": "https://localhost:8080/"
        },
        "outputId": "2dae3885-23da-4142-ea63-443b963ea51f"
      },
      "execution_count": 21,
      "outputs": [
        {
          "output_type": "stream",
          "name": "stderr",
          "text": [
            "WARNING:absl:Found untraced functions such as dense_layer_call_fn, dense_layer_call_and_return_conditional_losses, embedding_layer_call_fn, embedding_layer_call_and_return_conditional_losses, query_layer_call_fn while saving (showing 5 of 88). These functions will not be directly callable after loading.\n"
          ]
        }
      ]
    },
    {
      "cell_type": "code",
      "source": [],
      "metadata": {
        "id": "-RL0jfYjPC2X"
      },
      "execution_count": null,
      "outputs": []
    }
  ]
}